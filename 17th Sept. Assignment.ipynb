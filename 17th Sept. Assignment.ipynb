{
 "cells": [
  {
   "cell_type": "markdown",
   "id": "ae48e72b-357c-4617-8d71-740296eb63be",
   "metadata": {},
   "source": [
    "### 1. Write a Python program to print numbers from 1 to 10 using a for loop.\n"
   ]
  },
  {
   "cell_type": "code",
   "execution_count": 4,
   "id": "6f8551d8-19da-4ee3-a03c-1896a0efdcf9",
   "metadata": {},
   "outputs": [
    {
     "name": "stdout",
     "output_type": "stream",
     "text": [
      "[1, 2, 3, 4, 5, 6, 7, 8, 9, 10]\n"
     ]
    }
   ],
   "source": [
    "output_list = []\n",
    "\n",
    "numbers  = range(1,10+1)\n",
    "\n",
    "for number in numbers:\n",
    "    output_list.append(number)\n",
    "\n",
    "print(output_list)"
   ]
  },
  {
   "cell_type": "markdown",
   "id": "e1e6b70a-856c-4607-8764-54c468610bda",
   "metadata": {},
   "source": [
    "### 2. Explain the difference between a for loop and a while loop in Python"
   ]
  },
  {
   "cell_type": "markdown",
   "id": "0a8ddeb8-fb1a-4de7-89a2-73c680f05d93",
   "metadata": {},
   "source": [
    "#### In Python, both for loops and while loops are used for repetitive tasks, but they have different structures and use cases:\n",
    "\n",
    "For Loop:\n",
    "\n",
    "Structure: A for loop iterates over a sequence of elements, such as a list, tuple, string, or range.\n",
    "Use Case: It is typically used when you know in advance how many times you want to repeat a block of code.\n",
    "\n",
    "In the above example, it iterates over a range of numbers 10 times, from 1 to 10\n",
    "\n",
    "The loop variable (e.g., i or number as we have in the above example) takes on the values from the sequence in each iteration.\n",
    "\n",
    "While Loop:\n",
    "\n",
    "Structure: A while loop repeats a block of code as long as a specified condition is true.\n",
    "Use Case: It is used when you don't know in advance how many times the code should be repeated, and the loop continues until the condition becomes false.\n",
    "\n",
    "Example:\n",
    "count = 0\n",
    "while count < 5:  # Repeats while the condition count < 5 is true\n",
    "    print(count)\n",
    "    count += 1\n",
    "The loop continues until the condition (e.g., count < 5) becomes false, so it's crucial to include code that modifies the loop variable to eventually make the condition false.\n",
    "In summary, for loops are used when you know the number of iterations in advance and have a sequence to iterate over, while while loops are used when the number of iterations depends on a condition that may change during the loop's execution. The choice between them depends on the specific problem you are trying to solve."
   ]
  },
  {
   "cell_type": "markdown",
   "id": "cb1895b5-d731-40e0-8809-8a6652458e30",
   "metadata": {},
   "source": [
    "### 3. Write a Python program to calculate the sum of all numbers from 1 to 100 using a for loop."
   ]
  },
  {
   "cell_type": "code",
   "execution_count": 8,
   "id": "2764ab74-8e18-4c2b-9684-800bf7405534",
   "metadata": {},
   "outputs": [
    {
     "name": "stdout",
     "output_type": "stream",
     "text": [
      "The sum of numbers from 1 to 100 is: 5050\n"
     ]
    }
   ],
   "source": [
    "# Getting the range of numbers from 1 to 100\n",
    "number_list  = range(1,100+1)\n",
    "\n",
    "number = 0\n",
    "\n",
    "for i in number_list:\n",
    "    number += i\n",
    "print(f'The sum of numbers from 1 to 100 is: {number}')"
   ]
  },
  {
   "cell_type": "markdown",
   "id": "e5e09b9c-4dd3-4e24-8065-235f0adca483",
   "metadata": {},
   "source": [
    "### 4. How do you iterate through a list using a for loop in Python?\n"
   ]
  },
  {
   "cell_type": "markdown",
   "id": "ff0d217a-2ec9-4931-bf92-50dde8404f13",
   "metadata": {},
   "source": [
    "To iterate through a list using a for loop in Python, you can follow this general syntax:\n",
    "\n",
    "my_list = [item1, item2, item3, ...]  # Your list of items\n",
    "for item in my_list:\n",
    "    # Code to be executed for each item\n",
    "Here's an example:\n",
    "\n",
    "fruits = [\"apple\", \"banana\", \"cherry\"]\n",
    "for fruit in fruits:\n",
    "    print(fruit)\n",
    "In this example, we have a list called fruits, and the for loop iterates through each item in the list. The loop variable fruit takes on the value of each item in the list one by one, and you can perform operations or execute code inside the loop for each item. In this case, it prints each fruit.\n",
    "\n",
    "The loop continues until all items in the list have been processed. The loop variable (fruit in this case) takes on the values of the items in the list in order.\n",
    "\n",
    "This is a common and effective way to iterate through lists in Python."
   ]
  },
  {
   "cell_type": "markdown",
   "id": "23b2f44a-24a5-4d04-8c9f-27e04e4c40e8",
   "metadata": {},
   "source": [
    "### 5. Write a Python program to find the product of all elements in a list using a for loop."
   ]
  },
  {
   "cell_type": "code",
   "execution_count": 14,
   "id": "b52832f9-210d-4b20-ae77-d5b3e02e5fdc",
   "metadata": {},
   "outputs": [
    {
     "name": "stdout",
     "output_type": "stream",
     "text": [
      "The producct of items on the list is: 7200\n"
     ]
    }
   ],
   "source": [
    "list1 = [3,4,5,3,5,8]\n",
    "\n",
    "product = 1\n",
    "\n",
    "# Iterating using for loop\n",
    "for item in list1:\n",
    "    product *= item\n",
    "\n",
    "# print the product\n",
    "print(f'The producct of items on the list is: {product}')"
   ]
  },
  {
   "cell_type": "markdown",
   "id": "8dffb6ef-0918-481e-89ad-fa878cb2ebdf",
   "metadata": {},
   "source": [
    "### 6. Create a Python program that prints all even numbers from 1 to 20 using a for loop."
   ]
  },
  {
   "cell_type": "code",
   "execution_count": 18,
   "id": "8d112541-88c0-4f38-8785-075bb199f7d1",
   "metadata": {},
   "outputs": [
    {
     "name": "stdout",
     "output_type": "stream",
     "text": [
      "The list of even numbers are: [2, 4, 6, 8, 10, 12, 14, 16, 18, 20]\n"
     ]
    }
   ],
   "source": [
    "list2 = range(1,20+1)\n",
    "\n",
    "even_numbers = []\n",
    "\n",
    "# iterating through the list\n",
    "for number in list2:\n",
    "    if number%2 == 0:\n",
    "        even_numbers.append(number)\n",
    "    \n",
    "# print the output on a list to see the even numbers between 1 to 20\n",
    "print(f'The list of even numbers are: {even_numbers}')\n"
   ]
  },
  {
   "cell_type": "markdown",
   "id": "998fa03e-0b44-44ff-b3d4-9f3c13f48a5c",
   "metadata": {},
   "source": [
    "### 7. Write a Python program that calculates the factorial of a number using a for loop."
   ]
  },
  {
   "cell_type": "code",
   "execution_count": 30,
   "id": "f2d7a943-0f70-4a90-8335-7bce9811675e",
   "metadata": {},
   "outputs": [
    {
     "name": "stdin",
     "output_type": "stream",
     "text": [
      "Enter a number less than 10:  9\n"
     ]
    },
    {
     "name": "stdout",
     "output_type": "stream",
     "text": [
      "The factorial of 9 is: 362880\n"
     ]
    }
   ],
   "source": [
    "# Getting input from the user\n",
    "list_range = int(input('Enter a number less than 10: '))\n",
    "\n",
    "output1 = 1\n",
    "\n",
    "for number in range(1,list_range + 1): # iterating through the range of the given number\n",
    "    output1 *= number\n",
    "    \n",
    "print(f'The factorial of {list_range} is: {output1}')\n",
    "        \n",
    "\n"
   ]
  },
  {
   "cell_type": "markdown",
   "id": "6c9922c4-d954-40bd-9619-d80b32e43c68",
   "metadata": {},
   "source": [
    "### 8. How can you iterate through the characters of a string using a for loop in Python?"
   ]
  },
  {
   "cell_type": "code",
   "execution_count": 31,
   "id": "bbbea7b1-bb5f-42d6-9c91-45e5eff52c7a",
   "metadata": {},
   "outputs": [
    {
     "name": "stdout",
     "output_type": "stream",
     "text": [
      "['C', 'h', 'a', 'r', 'l', 'e', 's']\n"
     ]
    }
   ],
   "source": [
    "# Given a particular string\n",
    "string = 'Charles'\n",
    "\n",
    "# Creating an empty list to hold the the new strings\n",
    "new_string = []\n",
    "\n",
    "# we iterate through the given string using for loop like:\n",
    "for characters in string:\n",
    "    new_string.append(characters)\n",
    "\n",
    "print(new_string)\n"
   ]
  },
  {
   "cell_type": "markdown",
   "id": "3a5bbc9d-d199-41d9-9d09-46c246fd8fa3",
   "metadata": {},
   "source": [
    "### 9. Write a Python program to find the largest number in a list using a for loop."
   ]
  },
  {
   "cell_type": "code",
   "execution_count": 42,
   "id": "8cf4066f-86e6-49be-b4d3-35f346806db9",
   "metadata": {},
   "outputs": [
    {
     "name": "stdout",
     "output_type": "stream",
     "text": [
      "The largest number of the list is: 20\n"
     ]
    }
   ],
   "source": [
    "# Enter list of numbers to find its largest\n",
    "list3 = [3,16,2,4,20]\n",
    "\n",
    "largest_num = 0\n",
    "\n",
    "# looping through the list\n",
    "for i in list3:\n",
    "    if i > largest_num:\n",
    "        largest_num = i\n",
    "\n",
    "print(f'The largest number of the list is: {largest_num}')\n",
    "    "
   ]
  },
  {
   "cell_type": "markdown",
   "id": "43fe87c2-94ff-4566-aba8-b106f8177e61",
   "metadata": {},
   "source": [
    "### 10. Create a Python program that prints the Fibonacci sequence up to a specified limit using a for loop"
   ]
  },
  {
   "cell_type": "code",
   "execution_count": 54,
   "id": "e8fb98ba-b3c2-434f-98b9-cf565ab345cd",
   "metadata": {},
   "outputs": [
    {
     "name": "stdout",
     "output_type": "stream",
     "text": [
      "1\n",
      "2\n",
      "3\n",
      "5\n",
      "8\n",
      "13\n",
      "21\n"
     ]
    },
    {
     "data": {
      "text/plain": [
       "[0, 1, 1, 2, 3, 5, 8, 13, 21]"
      ]
     },
     "execution_count": 54,
     "metadata": {},
     "output_type": "execute_result"
    }
   ],
   "source": [
    "# Initialize the first two numbers in the Fibonacci sequence\n",
    "fib = [0, 1]\n",
    "\n",
    "# Use a for loop to generate the next 7 Fibonacci numbers\n",
    "for i in range(2, 9):\n",
    "    next_fib = fib[i-1] + fib[i-2]\n",
    "    fib.append(next_fib)\n",
    "fib"
   ]
  },
  {
   "cell_type": "markdown",
   "id": "33e25933-a719-4830-a6e5-1dea17bf84be",
   "metadata": {},
   "source": [
    "### 11. Write a Python program to count the number of vowels in a given string using a for loop.\n"
   ]
  },
  {
   "cell_type": "code",
   "execution_count": 18,
   "id": "cdf94809-c2bd-40e6-8c0e-03981d67c390",
   "metadata": {},
   "outputs": [
    {
     "name": "stdout",
     "output_type": "stream",
     "text": [
      "We have 3 vowels present in the word given\n"
     ]
    }
   ],
   "source": [
    "# assign vowels to a variable\n",
    "vowel = 'AEIOUaeiou'\n",
    "\n",
    "certain_strg = 'Anglican'\n",
    "\n",
    "a = []\n",
    "\n",
    "for vowels in certain_strg:\n",
    "    if vowels in vowel:\n",
    "         a.append(vowels)\n",
    "            \n",
    "print(f'We have {len(a)} vowels present in the word given')"
   ]
  },
  {
   "cell_type": "markdown",
   "id": "1a5b20c3-a2c5-45dd-8947-e5e02e90982e",
   "metadata": {},
   "source": [
    "### Create a Python program that generates a multiplication table for a given number using a for loop"
   ]
  },
  {
   "cell_type": "code",
   "execution_count": 9,
   "id": "95dfb0a7-c7d5-4699-ae23-c029ab58729d",
   "metadata": {},
   "outputs": [
    {
     "name": "stdin",
     "output_type": "stream",
     "text": [
      "Enter any number less than 10 7\n"
     ]
    },
    {
     "name": "stdout",
     "output_type": "stream",
     "text": [
      "7 * 1 = 7\n",
      "7 * 2 = 14\n",
      "7 * 3 = 21\n",
      "7 * 4 = 28\n",
      "7 * 5 = 35\n",
      "7 * 6 = 42\n",
      "7 * 7 = 49\n",
      "7 * 8 = 56\n",
      "7 * 9 = 63\n",
      "7 * 10 = 70\n",
      "7 * 11 = 77\n",
      "7 * 12 = 84\n"
     ]
    }
   ],
   "source": [
    "# Get input from the user\n",
    "no = int(input('Enter any number less than 10'))\n",
    "\n",
    "multiple = range(1,12+1)\n",
    "\n",
    "for number in multiple:\n",
    "    product = no*number\n",
    "\n",
    "    print(f'{no} * {number} = {product}')\n",
    "\n"
   ]
  },
  {
   "cell_type": "markdown",
   "id": "a7289045-a11f-4556-a0cc-1121dab80d8f",
   "metadata": {},
   "source": [
    "### 13. Write a Python program to reverse a list using a for loop.\n"
   ]
  },
  {
   "cell_type": "code",
   "execution_count": 16,
   "id": "915f5f31-e519-45e5-a554-98be9cf082b5",
   "metadata": {},
   "outputs": [
    {
     "data": {
      "text/plain": [
       "[8, 5, 4, 3, 5, 2]"
      ]
     },
     "execution_count": 16,
     "metadata": {},
     "output_type": "execute_result"
    }
   ],
   "source": [
    "# Get the list of numbers\n",
    "list = [2,5,3,4,5,8]\n",
    "\n",
    "# Create an empty list\n",
    "empty_list = []\n",
    "\n",
    "for i in list: #iterate through the list\n",
    "    empty_list.append(i)\n",
    "\n",
    "empty_list[::-1]\n",
    "    "
   ]
  },
  {
   "cell_type": "markdown",
   "id": "a250f7d1-6c64-466c-9fde-85f67c28a238",
   "metadata": {},
   "source": [
    "### 14. Write a Python program to find the common elements between two lists using a for loop."
   ]
  },
  {
   "cell_type": "code",
   "execution_count": 22,
   "id": "78dd3d39-74dc-471e-806c-6a6c08cc07ef",
   "metadata": {},
   "outputs": [
    {
     "name": "stdout",
     "output_type": "stream",
     "text": [
      "The common elements between the two lists are: [3, 4, 12]\n"
     ]
    }
   ],
   "source": [
    "# create the two list\n",
    "\n",
    "list_1 = [3,4,6,5,12,8]\n",
    "list_2 = [2,3,10,11,12,4]\n",
    "\n",
    "new_list = []\n",
    "\n",
    "for num in list_1:\n",
    "    if num in list_2:\n",
    "        new_list.append(num)\n",
    "    \n",
    "print(f'The common elements between the two lists are: {new_list}')"
   ]
  },
  {
   "cell_type": "markdown",
   "id": "19284ee5-6877-40ce-a268-cacd9d456135",
   "metadata": {},
   "source": [
    "### 15. Explain how to use a for loop to iterate through the keys and values of a dictionary in Python."
   ]
  },
  {
   "cell_type": "markdown",
   "id": "7aeff667-b7af-4808-897c-0962706ede13",
   "metadata": {},
   "source": [
    "To use a for loop to iterate through the keys and values of a dictionary in Python, you can use the items() method of the dictionary. Here's how you can do it:\n",
    "\n",
    "my_dict = {\n",
    "    \"key1\": \"value1\",\n",
    "    \"key2\": \"value2\",\n",
    "    \"key3\": \"value3\"\n",
    "}\n",
    "\n",
    "#### Iterate through the keys and values of the dictionary\n",
    "for key, value in my_dict.items():\n",
    "    print(f\"Key: {key}, Value: {value}\")\n",
    "In this code:\n",
    "\n",
    "We have a dictionary called my_dict with key-value pairs.\n",
    "\n",
    "We use a for loop to iterate through the keys and values of the dictionary. The .items() method is used to obtain pairs of key-value for each iteration.\n",
    "\n",
    "Inside the loop, we extract the key and value using the variables key and value, and then we can perform any operations on them.\n",
    "\n",
    "We print the key and value for each iteration.\n",
    "\n",
    "The output will look like this:\n",
    "\n",
    "Key: key1, Value: value1\n",
    "Key: key2, Value: value2\n",
    "Key: key3, Value: value3\n",
    "This is a common way to iterate through the key-value pairs of a dictionary in Python using a for loop."
   ]
  },
  {
   "cell_type": "markdown",
   "id": "6f4e5d17-8321-45b5-865b-3caae359e571",
   "metadata": {},
   "source": [
    "### 16. Write a Python program to find the GCD (Greatest Common Divisor) of two numbers using a for loop.\n"
   ]
  },
  {
   "cell_type": "code",
   "execution_count": 24,
   "id": "67dc96f0-53d1-4704-b690-0f216cb9be8b",
   "metadata": {},
   "outputs": [
    {
     "name": "stdin",
     "output_type": "stream",
     "text": [
      "Enter the first number:  6\n",
      "Enter the second number:  9\n"
     ]
    },
    {
     "name": "stdout",
     "output_type": "stream",
     "text": [
      "The GCD of 6 and 9 is 3\n"
     ]
    }
   ],
   "source": [
    "# Function to find the GCD of two numbers using the Euclidean algorithm\n",
    "def gcd(a, b):\n",
    "    while b:\n",
    "        a, b = b, a % b\n",
    "    return a\n",
    "\n",
    "# Input two numbers from the user\n",
    "num1 = int(input(\"Enter the first number: \"))\n",
    "num2 = int(input(\"Enter the second number: \"))\n",
    "\n",
    "# Calculate and print the GCD\n",
    "result = gcd(num1, num2)\n",
    "print(f\"The GCD of {num1} and {num2} is {result}\")"
   ]
  },
  {
   "cell_type": "markdown",
   "id": "532c5b3a-11ca-4f3d-a2f3-e77e4664a131",
   "metadata": {},
   "source": [
    "### 17. Create a Python program that checks if a string is a palindrome using a for loop"
   ]
  },
  {
   "cell_type": "code",
   "execution_count": 25,
   "id": "69cd285c-788a-4449-b0dc-de72639d61c3",
   "metadata": {},
   "outputs": [
    {
     "name": "stdin",
     "output_type": "stream",
     "text": [
      "Enter a string:  omnipotent\n"
     ]
    },
    {
     "name": "stdout",
     "output_type": "stream",
     "text": [
      "It's not a palindrome.\n"
     ]
    }
   ],
   "source": [
    "# Function to check if a string is a palindrome\n",
    "def is_palindrome(input_string):\n",
    "    # Remove spaces and convert to lowercase for comparison\n",
    "    input_string = input_string.replace(\" \", \"\").lower()\n",
    "    \n",
    "    # Calculate the length of the string\n",
    "    length = len(input_string)\n",
    "    \n",
    "    # Use a for loop to compare characters from the start and end\n",
    "    for i in range(length // 2):\n",
    "        if input_string[i] != input_string[length - i - 1]:\n",
    "            return False\n",
    "    return True\n",
    "\n",
    "# Input a string from the user\n",
    "user_input = input(\"Enter a string: \")\n",
    "\n",
    "# Check if the input string is a palindrome\n",
    "if is_palindrome(user_input):\n",
    "    print(\"It's a palindrome!\")\n",
    "else:\n",
    "    print(\"It's not a palindrome.\")"
   ]
  },
  {
   "cell_type": "markdown",
   "id": "00e85015-c660-4a56-8d22-2d0ae4c28af6",
   "metadata": {},
   "source": [
    "### 18. Write a Python program to remove duplicates from a list using a for loop."
   ]
  },
  {
   "cell_type": "code",
   "execution_count": 33,
   "id": "c8dcc5d1-8803-4a75-84d8-d17d258b6898",
   "metadata": {},
   "outputs": [
    {
     "name": "stdout",
     "output_type": "stream",
     "text": [
      "The new list without duplicate is: [4, 5, 8, 6, 2, 7]\n"
     ]
    }
   ],
   "source": [
    "list3 = [4,5,8,6,8,2,4,7]\n",
    "\n",
    "new_list3 = []\n",
    "\n",
    "for dup in list3:\n",
    "    if dup not in new_list3:\n",
    "        new_list3.append(dup)\n",
    "\n",
    "print(f'The new list without duplicate is: {new_list3}')\n",
    "    \n",
    "    "
   ]
  },
  {
   "cell_type": "markdown",
   "id": "0b3207d1-adc1-4226-ba7d-1b1fe82f29b9",
   "metadata": {},
   "source": [
    "### 19. Create a Python program that counts the number of words in a sentence using a for loop."
   ]
  },
  {
   "cell_type": "code",
   "execution_count": 75,
   "id": "1579927f-168c-492d-b226-c5dc2c65a0b0",
   "metadata": {},
   "outputs": [
    {
     "name": "stdin",
     "output_type": "stream",
     "text": [
      "Make a sentence here:  God will always come through\n"
     ]
    },
    {
     "name": "stdout",
     "output_type": "stream",
     "text": [
      "We have 5 words in the sentence your entered\n"
     ]
    }
   ],
   "source": [
    "# Get a sentence from the user\n",
    "sentence = input('Make a sentence here: ')\n",
    "\n",
    "new =[]\n",
    "\n",
    "for words in sentence.split():\n",
    "    new.append(words)\n",
    "\n",
    "print(f'We have {len(new)} words in the sentence your entered')\n"
   ]
  },
  {
   "cell_type": "markdown",
   "id": "3a7bbf0a-40a4-4768-acf6-48eae4e75674",
   "metadata": {},
   "source": [
    "### 20. Write a Python program to find the sum of all odd numbers from 1 to 50 using a for loop.\n"
   ]
  },
  {
   "cell_type": "code",
   "execution_count": 1,
   "id": "cbc921bd-52d7-4a92-9f29-abb8ebb755a1",
   "metadata": {},
   "outputs": [
    {
     "name": "stdout",
     "output_type": "stream",
     "text": [
      "The sum of all odd numbers between 1 and 50 is: 625\n"
     ]
    }
   ],
   "source": [
    "numbers = range(1,50+1)\n",
    "\n",
    "odd_nums = 0\n",
    "\n",
    "for nums in numbers:\n",
    "    if nums%2 != 0:\n",
    "        odd_nums += nums\n",
    "\n",
    "print(f'The sum of all odd numbers between 1 and 50 is: {odd_nums}')"
   ]
  },
  {
   "cell_type": "markdown",
   "id": "2235a933-891c-4e4b-a197-310e102c6489",
   "metadata": {},
   "source": [
    "### 21. Write a Python program that checks if a given year is a leap year using a for loop."
   ]
  },
  {
   "cell_type": "code",
   "execution_count": 3,
   "id": "1d7d98fb-e6b1-4d7c-93da-e8323b1e7cfd",
   "metadata": {},
   "outputs": [
    {
     "name": "stdin",
     "output_type": "stream",
     "text": [
      "Enter any given year:  2024\n"
     ]
    },
    {
     "name": "stdout",
     "output_type": "stream",
     "text": [
      "The year is a leap year, it has 366 days\n"
     ]
    }
   ],
   "source": [
    "# Get input from the user\n",
    "\n",
    "year = int(input('Enter any given year: '))\n",
    "\n",
    "if year%4 == 0:\n",
    "    if year%100 == 0:\n",
    "        if year%400 == 0:\n",
    "            print('The year is a leap year, it has 366 days')\n",
    "        else:\n",
    "            print('The year is not a leap year as it has 365 days in it')\n",
    "    else:\n",
    "        print('The year is a leap year, it has 366 days')\n",
    "else:\n",
    "    print('The year is not a leap year as it has 365 days in it')"
   ]
  },
  {
   "cell_type": "markdown",
   "id": "b65e8188-fc94-4eec-99f7-0bf69be615a5",
   "metadata": {},
   "source": [
    "### 22. Create a Python program that calculates the square root of a number using a for loop."
   ]
  },
  {
   "cell_type": "code",
   "execution_count": 10,
   "id": "46c565d9-c227-490a-9f9c-70b3ee1936da",
   "metadata": {},
   "outputs": [
    {
     "name": "stdin",
     "output_type": "stream",
     "text": [
      "Enter a number:  15\n"
     ]
    },
    {
     "name": "stdout",
     "output_type": "stream",
     "text": [
      "The square root of 15.0 is approximately 3.872983346207417\n"
     ]
    }
   ],
   "source": [
    "# Input a number from the user\n",
    "number = float(input(\"Enter a number: \"))\n",
    "\n",
    "# Initial guess\n",
    "guess = number / 2.0\n",
    "\n",
    "# Number of iterations\n",
    "iterations = 10\n",
    "\n",
    "# Approximate the square root using a for loop\n",
    "for _ in range(iterations):\n",
    "    guess = 0.5 * (guess + number / guess)\n",
    "\n",
    "# Print the approximate square root\n",
    "print(f\"The square root of {number} is approximately {guess}\")"
   ]
  },
  {
   "cell_type": "markdown",
   "id": "4e2d1bf5-1250-4f3d-864d-aafa143660f0",
   "metadata": {},
   "source": [
    "### 23. Write a Python program to find the LCM (Least Common Multiple) of two numbers using a for loop"
   ]
  },
  {
   "cell_type": "code",
   "execution_count": 11,
   "id": "c2cb54f7-c1c0-434c-acb3-9b596480d106",
   "metadata": {},
   "outputs": [
    {
     "name": "stdin",
     "output_type": "stream",
     "text": [
      "Enter the first number:  4\n",
      "Enter the second number:  10\n"
     ]
    },
    {
     "name": "stdout",
     "output_type": "stream",
     "text": [
      "The LCM of 4 and 10 is 20\n"
     ]
    }
   ],
   "source": [
    "# Input two numbers from the user\n",
    "num1 = int(input(\"Enter the first number: \"))\n",
    "num2 = int(input(\"Enter the second number: \"))\n",
    "\n",
    "# Find the maximum of the two numbers\n",
    "max_num = max(num1, num2)\n",
    "\n",
    "# Start from the maximum and search for the LCM\n",
    "for i in range(max_num, num1 * num2 + 1):\n",
    "    if i % num1 == 0 and i % num2 == 0:\n",
    "        lcm = i\n",
    "        break\n",
    "\n",
    "# Print the LCM\n",
    "print(f\"The LCM of {num1} and {num2} is {lcm}\")"
   ]
  },
  {
   "cell_type": "markdown",
   "id": "0af69231-c936-4a61-bddf-dbe2506cb0bf",
   "metadata": {},
   "source": [
    "### Write a Python program to check if a number is positive, negative, or zero using an if-else statement"
   ]
  },
  {
   "cell_type": "code",
   "execution_count": 18,
   "id": "3a36fac7-c786-4f2f-92b4-8d5271abfb0b",
   "metadata": {},
   "outputs": [
    {
     "name": "stdin",
     "output_type": "stream",
     "text": [
      "Enter any whole number:  02\n"
     ]
    },
    {
     "name": "stdout",
     "output_type": "stream",
     "text": [
      "2 is a positive number\n"
     ]
    }
   ],
   "source": [
    "# Get user input\n",
    "number = int(input('Enter any whole number: '))\n",
    "\n",
    "# check the status of the number entered\n",
    "if number > 0:\n",
    "    print(f'{number} is a positive number')\n",
    "    \n",
    "elif number < 0:\n",
    "    print(f'{number} is a negative number')\n",
    "    \n",
    "else:\n",
    "    print(f'{number} is zero')\n"
   ]
  },
  {
   "cell_type": "markdown",
   "id": "a7fac11e-f101-4266-8114-d78836cd9410",
   "metadata": {},
   "source": [
    "### 2. Create a Python program that checks if a given number is even or odd using an if-else statement."
   ]
  },
  {
   "cell_type": "code",
   "execution_count": 19,
   "id": "a3d47c17-48a3-47d9-94f8-96773424fb13",
   "metadata": {},
   "outputs": [
    {
     "name": "stdin",
     "output_type": "stream",
     "text": [
      "Enter any whole number:  15\n"
     ]
    },
    {
     "name": "stdout",
     "output_type": "stream",
     "text": [
      "15 is an odd number\n"
     ]
    }
   ],
   "source": [
    "# Get user input\n",
    "number1 = int(input('Enter any whole number: '))\n",
    "\n",
    "if number1%2 == 0:\n",
    "    print(f'{number1} is an even number')\n",
    "else:\n",
    "    print(f'{number1} is an odd number')"
   ]
  },
  {
   "cell_type": "markdown",
   "id": "1b32f633-ad11-4145-b809-d29bbb7324a6",
   "metadata": {},
   "source": [
    "### 3. How can you use nested if-else statements in Python, and provide an example?"
   ]
  },
  {
   "cell_type": "code",
   "execution_count": 4,
   "id": "df2fd8a4-017a-442e-9cbb-7ca2819df717",
   "metadata": {},
   "outputs": [
    {
     "name": "stdin",
     "output_type": "stream",
     "text": [
      "Enter a number:  5\n"
     ]
    },
    {
     "name": "stdout",
     "output_type": "stream",
     "text": [
      "The number is positive.\n",
      "It is odd.\n"
     ]
    }
   ],
   "source": [
    "'''Nested if-else statements in Python allow you to create more complex conditional logic by placing one if-else statement inside another. \n",
    "This enables you to test multiple conditions in a hierarchical manner. '''\n",
    "\n",
    "# Here's an example of how to use nested if-else statements in Python:\n",
    "\n",
    "# Input a number from the user\n",
    "num = int(input(\"Enter a number: \"))\n",
    "\n",
    "if num > 0:\n",
    "    print(\"The number is positive.\")\n",
    "    if num % 2 == 0:\n",
    "        print(\"It is also even.\")\n",
    "    else:\n",
    "        print(\"It is odd.\")\n",
    "elif num < 0:\n",
    "    print(\"The number is negative.\")\n",
    "    if num % 2 == 0:\n",
    "        print(\"It is also even.\")\n",
    "    else:\n",
    "        print(\"It is odd.\")\n",
    "else:\n",
    "    print(\"The number is zero.\")"
   ]
  },
  {
   "cell_type": "markdown",
   "id": "c43e7561-3cd6-4e64-bad5-7ba4590a022a",
   "metadata": {},
   "source": [
    "### in the above example\n",
    "''''We take input from the user for a number using input() and convert it to an integer using int().\n",
    "We use a nested if-else structure to first check if the number is positive, negative, or zero.\n",
    "Within each branch, we use another if-else statement to check if the number is even or odd.\n",
    "The nested if-else statements allow you to handle different cases and provide more specific information based on the input number.'''"
   ]
  },
  {
   "cell_type": "markdown",
   "id": "8168630c-4457-4b17-9678-86f11320222c",
   "metadata": {},
   "source": [
    "### 4. Write a Python program to determine the largest of three numbers using if-else."
   ]
  },
  {
   "cell_type": "code",
   "execution_count": 11,
   "id": "2214a992-b259-4c0c-a654-14c0d9f1b3be",
   "metadata": {},
   "outputs": [
    {
     "name": "stdin",
     "output_type": "stream",
     "text": [
      "Enter your first number:  4\n",
      "Enter your seconnd number:  8\n",
      "Enter your third number:  2\n"
     ]
    },
    {
     "name": "stdout",
     "output_type": "stream",
     "text": [
      "8 is the largest among the three numbers\n"
     ]
    }
   ],
   "source": [
    "# Input a number from the user\n",
    "num1 = int(input(\"Enter your first number: \"))\n",
    "num2 = int(input(\"Enter your seconnd number: \"))\n",
    "num3 = int(input(\"Enter your third number: \"))\n",
    "\n",
    "if num1 >= num2 and num1 >= num3:\n",
    "    print(f'{num1} is the largest among the three numbers')\n",
    "    \n",
    "elif num2 >= num1 and num2 >= num3:\n",
    "    print(f'{num2} is the largest among the three numbers')\n",
    "    \n",
    "else:\n",
    "    print(f'{num3} is the largest among the three numbers')\n"
   ]
  },
  {
   "cell_type": "markdown",
   "id": "7fc3680e-6b73-494c-8d52-66794ad20ad6",
   "metadata": {},
   "source": [
    "### 5. Write a Python program that calculates the absolute value of a number using if-else."
   ]
  },
  {
   "cell_type": "code",
   "execution_count": 12,
   "id": "45a0908e-a5b4-48a3-aa97-63131a58d99b",
   "metadata": {},
   "outputs": [
    {
     "name": "stdin",
     "output_type": "stream",
     "text": [
      "Enter a number:  -2\n"
     ]
    },
    {
     "name": "stdout",
     "output_type": "stream",
     "text": [
      "The absolute value of -2.0 is 2.0\n"
     ]
    }
   ],
   "source": [
    "# Input a number from the user\n",
    "num = float(input(\"Enter a number: \"))\n",
    "\n",
    "# Calculate the absolute value using if-else\n",
    "if num < 0:\n",
    "    absolute_value = -num\n",
    "else:\n",
    "    absolute_value = num\n",
    "\n",
    "# Display the result\n",
    "print(f\"The absolute value of {num} is {absolute_value}\")"
   ]
  },
  {
   "cell_type": "markdown",
   "id": "90670d64-0976-4921-95d7-db3cd1dff7b9",
   "metadata": {},
   "source": [
    "### 6. Create a Python program that checks if a given character is a vowel or consonant using if-else"
   ]
  },
  {
   "cell_type": "code",
   "execution_count": 13,
   "id": "33d085db-1224-409b-9feb-e3c533569d10",
   "metadata": {},
   "outputs": [
    {
     "name": "stdin",
     "output_type": "stream",
     "text": [
      "Enter a letter from the english alphabet:  f\n"
     ]
    },
    {
     "name": "stdout",
     "output_type": "stream",
     "text": [
      "The letter you entered is a consonant\n"
     ]
    }
   ],
   "source": [
    "vowels = 'AEIOUaeiou'\n",
    "\n",
    "\n",
    "# Get innput from the user\n",
    "char = input('Enter a letter from the english alphabet: ')\n",
    "\n",
    "# looping through to check if the letter is a vowel or consonant\n",
    "\n",
    "if char in vowels:\n",
    "    print('The letter entered is a vowel')\n",
    "elif len(char)>1:\n",
    "    print('Input is more than one letter, please enter again')\n",
    "else:\n",
    "    print('The letter you entered is a consonant')"
   ]
  },
  {
   "cell_type": "markdown",
   "id": "9ba17b72-1aa3-4496-b5a9-ecd11c7c2393",
   "metadata": {},
   "source": [
    "### 7. Write a Python program to determine if a user is eligible to vote based on their age using if-else"
   ]
  },
  {
   "cell_type": "code",
   "execution_count": 14,
   "id": "b82c7fac-0424-4e3f-b6a7-e8e2c36486b6",
   "metadata": {},
   "outputs": [
    {
     "name": "stdin",
     "output_type": "stream",
     "text": [
      "Enter your age:  25\n"
     ]
    },
    {
     "name": "stdout",
     "output_type": "stream",
     "text": [
      "You are eligible to vote\n"
     ]
    }
   ],
   "source": [
    "# To receive the voters age\n",
    "voters_age = int(input('Enter your age: '))\n",
    "\n",
    "if voters_age < 18:\n",
    "    print('You are underage, making you ineligibe to vote')\n",
    "else:\n",
    "    print('You are eligible to vote')"
   ]
  },
  {
   "cell_type": "markdown",
   "id": "16bf6389-20f1-4f43-b4ff-05d989736e31",
   "metadata": {},
   "source": [
    "### 8. Create a Python program that calculates the discount amount based on the purchase amount using if-else.\n"
   ]
  },
  {
   "cell_type": "code",
   "execution_count": 2,
   "id": "604d1c64-57a7-4df4-9233-b9c790eb2e7a",
   "metadata": {},
   "outputs": [
    {
     "name": "stdin",
     "output_type": "stream",
     "text": [
      "Enter your purchase amount: $ 200\n"
     ]
    },
    {
     "name": "stdout",
     "output_type": "stream",
     "text": [
      "You have 2% discount, please pay $196.0\n"
     ]
    }
   ],
   "source": [
    "# Get input from the user\n",
    "purchase_amount = int(input('Enter your purchase amount: $'))\n",
    "\n",
    "if purchase_amount >= 100 and purchase_amount < 300:\n",
    "    discount = 0.02\n",
    "    calc_price = purchase_amount - (discount*purchase_amount)\n",
    "    print(f'You have 2% discount, please pay ${calc_price}')\n",
    "    \n",
    "elif purchase_amount >= 300 and purchase_amount < 500:\n",
    "    discount = 0.08\n",
    "    calc_price = purchase_amount - (discount*purchase_amount)\n",
    "    print(f'You have 8% discount, please pay ${calc_price}')\n",
    "    \n",
    "elif purchase_amount >= 500:\n",
    "    discount = 0.2\n",
    "    calc_price = purchase_amount - (discount*purchase_amount)\n",
    "    print(f'You have 20% discount, please pay ${calc_price}')\n",
    "    \n",
    "else:\n",
    "    print('Sorry you are not eligible for discount')"
   ]
  },
  {
   "cell_type": "markdown",
   "id": "6c46aa30-a6f0-413b-8fd0-bab05b66c7f9",
   "metadata": {},
   "source": [
    "### 9. Write a Python program to check if a number is within a specified range using if-else.\n"
   ]
  },
  {
   "cell_type": "code",
   "execution_count": 4,
   "id": "ed6bd0a9-fbb9-4ce6-b8e0-f564b7b30007",
   "metadata": {},
   "outputs": [
    {
     "name": "stdin",
     "output_type": "stream",
     "text": [
      "Enter any number:  41\n"
     ]
    },
    {
     "name": "stdout",
     "output_type": "stream",
     "text": [
      "Your entry is not found within the numbers\n"
     ]
    }
   ],
   "source": [
    "# Get input from the user\n",
    "number = int(input('Enter any number: '))\n",
    "\n",
    "# Get the range of numbers\n",
    "number_range = range(20,40+1)\n",
    "\n",
    "if  number in number_range:\n",
    "    print('Yes, your entry is found')\n",
    "else:\n",
    "    print('Your entry is not found within the numbers')"
   ]
  },
  {
   "cell_type": "markdown",
   "id": "3ac59e68-547b-4bfd-848c-9cf0c8d354a0",
   "metadata": {},
   "source": [
    "### 10. Create a Python program that determines the grade of a student based on their score using if-else.\n"
   ]
  },
  {
   "cell_type": "code",
   "execution_count": 13,
   "id": "86cecae5-9033-4464-9e0f-f7f4ff481dc5",
   "metadata": {},
   "outputs": [
    {
     "name": "stdin",
     "output_type": "stream",
     "text": [
      "Enter the student's score:  sda\n"
     ]
    },
    {
     "name": "stdout",
     "output_type": "stream",
     "text": [
      "Your entry is invalid. Please enter a number\n"
     ]
    }
   ],
   "source": [
    "# Get the student's score\n",
    "try:\n",
    "    student_score = int(input(\"Enter the student's score: \"))\n",
    "\n",
    "    # check where the grade of the student\n",
    "    if student_score >= 70 and student_score <= 100:\n",
    "        print(\"The student's grade is: A\")\n",
    "    elif student_score >= 60 and student_score < 70:\n",
    "        print(\"The student's grade is: B\")\n",
    "    elif student_score >= 50 and student_score < 60:\n",
    "        print(\"The student's grade is: C\")\n",
    "    elif student_score >= 45 and student_score < 50:\n",
    "        print(\"The student's grade is: D\")\n",
    "    elif student_score >= 40 and student_score < 45:\n",
    "        print(\"The student's grade is: E\")\n",
    "    else:\n",
    "        print('You failed the exam')\n",
    "        \n",
    "except ValueError:\n",
    "    print('Your entry is invalid. Please enter a number')"
   ]
  },
  {
   "cell_type": "markdown",
   "id": "cb7f6d82-0920-4da3-93eb-4e43407f62d7",
   "metadata": {},
   "source": [
    "### 11. Write a Python program to check if a string is empty or not using if-else"
   ]
  },
  {
   "cell_type": "code",
   "execution_count": 15,
   "id": "12808a2f-35d9-4512-b1fc-ac8785d32e71",
   "metadata": {},
   "outputs": [
    {
     "name": "stdout",
     "output_type": "stream",
     "text": [
      "The string is not empty\n"
     ]
    }
   ],
   "source": [
    "string2 = 'Capitalisation'\n",
    "\n",
    "if len(string2) != 0:\n",
    "    print('The string is not empty')\n",
    "else:\n",
    "    print('The string is empty')"
   ]
  },
  {
   "cell_type": "markdown",
   "id": "b386153b-8c64-4226-94bf-84550f893c98",
   "metadata": {},
   "source": [
    "#### 12 Create a Python program that identifies the type of a triangle (e.g., equilateral, isosceles, or scalene) based on input values using if-else.\n",
    "#### 13. Write a Python program to determine the day of the week based on a user-provided number using if-else.\n",
    "#### 14. Create a Python program that checks if a given year is a leap year using both if-else and a function."
   ]
  },
  {
   "cell_type": "code",
   "execution_count": null,
   "id": "e5dee460-54ab-4bef-bfda-14b08164c9d3",
   "metadata": {},
   "outputs": [],
   "source": [
    "# Create the class\n",
    "class Practice1:\n",
    "    \n",
    "    # solution to  question 12 above\n",
    "    def triangle_type(self, side1, side2, side3):\n",
    "        if side1 == side2 and side1 == side3:\n",
    "            return 'This is an equilateral triangle'\n",
    "        if side1 == side2 or side1 == side3:\n",
    "            return 'This is an isosceles triangle'\n",
    "        else:\n",
    "            return 'This is a scalene triangle'\n",
    "     \n",
    "    # solution to  question 13 above\n",
    "    def daysoftheweek(self, num):\n",
    "        if num == 1:\n",
    "            return \"It's Sunday\"\n",
    "        elif num == 2:\n",
    "            return \"It's Monday\"\n",
    "        elif num == 3:\n",
    "            return \"It's Tuesday\"\n",
    "        elif num == 4:\n",
    "            return \"It's Wednesday\"\n",
    "        elif num == 5:\n",
    "            return \"It's Thursday\"\n",
    "        elif num == 6:\n",
    "            return \"It's Friday\"\n",
    "        elif num == 7:\n",
    "            return \"It's Saturday\"\n",
    "        \n",
    "        else:\n",
    "            return \"Your input is out of range\"\n",
    "        \n",
    "    # solution to  question 14 above\n",
    "    def leapyear_ornot(self, year):\n",
    "        try:\n",
    "            year = int(input(\"Enter a year: \"))  # Prompt the user for a year and convert it to an integer\n",
    "            if year % 4 == 0:\n",
    "                if year % 100 == 0:\n",
    "                    if year % 400 == 0:\n",
    "                        return 'The year is a leap year, it has 366 days'\n",
    "                    else:\n",
    "                        return 'The year is not a leap year as it has 365 days in it'\n",
    "                else:\n",
    "                    return 'The year is a leap year, it has 366 days'\n",
    "            else:\n",
    "                return 'The year is not a leap year as it has 365 days in it'\n",
    "        except ValueError:\n",
    "            return 'Invalid input. Please enter a valid year as an integer.'\n"
   ]
  },
  {
   "cell_type": "code",
   "execution_count": 44,
   "id": "3754be1d-dd45-4f14-aeab-30bc7bbac14e",
   "metadata": {},
   "outputs": [
    {
     "data": {
      "text/plain": [
       "'This is a scalene triangle'"
      ]
     },
     "execution_count": 44,
     "metadata": {},
     "output_type": "execute_result"
    }
   ],
   "source": [
    "solutions = Practice1()\n",
    "solutions.triangle_type(3,5,4)"
   ]
  },
  {
   "cell_type": "code",
   "execution_count": 45,
   "id": "ca494432-f15f-4419-b398-572c43a88593",
   "metadata": {},
   "outputs": [
    {
     "data": {
      "text/plain": [
       "\"It's Saturday\""
      ]
     },
     "execution_count": 45,
     "metadata": {},
     "output_type": "execute_result"
    }
   ],
   "source": [
    "solutions.daysoftheweek(7)"
   ]
  },
  {
   "cell_type": "code",
   "execution_count": 64,
   "id": "0ab45522-1dd8-4e32-b660-6b41f9647958",
   "metadata": {},
   "outputs": [
    {
     "name": "stdout",
     "output_type": "stream",
     "text": [
      "The year is not a leap year as it has 365 days in it\n"
     ]
    }
   ],
   "source": [
    "solutions.leapyear_ornot(2022)"
   ]
  },
  {
   "cell_type": "markdown",
   "id": "6abee13a-dbcf-4123-bab1-1915abf558c0",
   "metadata": {},
   "source": [
    "### 15. How do you use the \"assert\" statement in Python to add debugging checks within if-else blocks?"
   ]
  },
  {
   "cell_type": "markdown",
   "id": "1d46a632-fbe2-4d34-91bf-69d0dd6f7e71",
   "metadata": {},
   "source": [
    "#### The assert statement in Python is used to add debugging checks within your code. It allows you to test whether a given condition is True and raises an AssertionError exception if the condition is False. This is a useful way to ensure that your assumptions about your code are correct during development. Here's how you use the assert statement:\n",
    "\n",
    "python\n",
    "Copy code\n",
    "#### Syntax: assert condition, message\n",
    "\n",
    "x = 5\n",
    "\n",
    "#### Add an assert statement to check if x is positive\n",
    "assert x > 0, \"x should be a positive number\"\n",
    "\n",
    "#### The code will continue to execute if x is positive\n",
    "print(\"x is positive:\", x)\n",
    "\n",
    "y = -2\n",
    "\n",
    "#### Add an assert statement to check if y is even\n",
    "assert y % 2 == 0, \"y should be an even number\"\n",
    "\n",
    "#### If y is not even, an AssertionError is raised, and the program stops\n",
    "print(\"y is even:\", y)\n",
    "In this example, the first assert statement checks if x is a positive number. If the condition is False, it raises an AssertionError with the provided message. In the second assert statement, it checks if y is an even number, and if the condition is False, an AssertionError is raised.\n",
    "\n",
    "You can use assert statements to add debugging checks within your if-else blocks to validate your assumptions and ensure that the code behaves as expected. During development, you can use these checks to catch potential issues and prevent incorrect data from propagating through your program. However, it's important to note that assert statements are typically used for debugging and should be disabled in production code for performance reasons. You can do this by running Python with the -O (optimize) flag, which will disable all assert statements."
   ]
  },
  {
   "cell_type": "markdown",
   "id": "b5f8afa6-a345-4ca3-8eb5-5618f6f637da",
   "metadata": {},
   "source": [
    "### Create a Python program that determines the eligibility of a person for a senior citizen discount based on age using if-else."
   ]
  },
  {
   "cell_type": "code",
   "execution_count": 67,
   "id": "f894d32e-aa06-4d69-83aa-96131ad2a2f5",
   "metadata": {},
   "outputs": [
    {
     "name": "stdin",
     "output_type": "stream",
     "text": [
      "Enter your age:  55\n"
     ]
    },
    {
     "name": "stdout",
     "output_type": "stream",
     "text": [
      "Sorry, you are not eligible for a senior citizen discount.\n"
     ]
    }
   ],
   "source": [
    "# Input the person's age\n",
    "age = int(input(\"Enter your age: \"))\n",
    "\n",
    "# Define the age threshold for a senior citizen discount\n",
    "senior_citizen_age = 60\n",
    "\n",
    "# Check eligibility based on age\n",
    "if age >= senior_citizen_age:\n",
    "    print(\"Congratulations! You are eligible for a senior citizen discount.\")\n",
    "else:\n",
    "    print(\"Sorry, you are not eligible for a senior citizen discount.\")"
   ]
  },
  {
   "cell_type": "markdown",
   "id": "3d339141-0f91-4b13-9dc7-41f051c33ed7",
   "metadata": {},
   "source": [
    "### 17. Write a Python program to categorize a given character as uppercase, lowercase, or neither using if-else.\n"
   ]
  },
  {
   "cell_type": "code",
   "execution_count": 12,
   "id": "867af49b-8443-4eb6-a575-ce544cbbe80b",
   "metadata": {},
   "outputs": [
    {
     "name": "stdin",
     "output_type": "stream",
     "text": [
      "Enter any given character:  l\n"
     ]
    },
    {
     "name": "stdout",
     "output_type": "stream",
     "text": [
      "l is a lowercase character\n"
     ]
    }
   ],
   "source": [
    "# Get input from the user\n",
    "character = input('Enter any given character: ')\n",
    "\n",
    "if len(character)>1:\n",
    "    print('You entered more than one character, Try to enter just one character')\n",
    "elif character.isupper():\n",
    "    print(f'{character} is an uppercase character')\n",
    "elif character.islower():\n",
    "    print(f'{character} is a lowercase character')\n",
    "else:\n",
    "    print('It is an invalid')"
   ]
  },
  {
   "cell_type": "markdown",
   "id": "5c71490c-9867-415d-944a-5502f3eec24d",
   "metadata": {},
   "source": [
    "### 18. Write a Python program to determine the roots of a quadratic equation using if-else"
   ]
  },
  {
   "cell_type": "code",
   "execution_count": 13,
   "id": "194a191a-d29c-4970-b575-77a6ae5bc341",
   "metadata": {},
   "outputs": [
    {
     "name": "stdin",
     "output_type": "stream",
     "text": [
      "Enter the coefficient a:  2\n",
      "Enter the coefficient b:  3\n",
      "Enter the coefficient c:  4\n"
     ]
    },
    {
     "name": "stdout",
     "output_type": "stream",
     "text": [
      "Complex roots: (-0.75+1.1989578808281798j) and (-0.75-1.1989578808281798j)\n"
     ]
    }
   ],
   "source": [
    "# Input coefficients\n",
    "a = float(input(\"Enter the coefficient a: \"))\n",
    "b = float(input(\"Enter the coefficient b: \"))\n",
    "c = float(input(\"Enter the coefficient c: \"))\n",
    "\n",
    "# Calculate the discriminant\n",
    "discriminant = b**2 - 4*a*c\n",
    "\n",
    "# Check the discriminant to determine the number of roots\n",
    "if discriminant > 0:\n",
    "    # Two real and distinct roots\n",
    "    root1 = (-b + (discriminant ** 0.5)) / (2*a)\n",
    "    root2 = (-b - (discriminant ** 0.5)) / (2*a)\n",
    "    print(f\"Two real and distinct roots: {root1} and {root2}\")\n",
    "elif discriminant == 0:\n",
    "    # One real root (repeated)\n",
    "    root1 = -b / (2*a)\n",
    "    print(f\"One real root (repeated): {root1}\")\n",
    "else:\n",
    "    # Complex roots\n",
    "    real_part = -b / (2*a)\n",
    "    imaginary_part = (abs(discriminant) ** 0.5) / (2*a)\n",
    "    root1 = complex(real_part, imaginary_part)\n",
    "    root2 = complex(real_part, -imaginary_part)\n",
    "    print(f\"Complex roots: {root1} and {root2}\")"
   ]
  },
  {
   "cell_type": "markdown",
   "id": "13bf8983-b93a-4789-8ed8-e0e19d1c9642",
   "metadata": {},
   "source": [
    "### 19. Create a Python program that checks if a given year is a century year or not using if-else"
   ]
  },
  {
   "cell_type": "code",
   "execution_count": 15,
   "id": "6bb4d8ee-0a43-4f7f-ae62-58161e0c29b7",
   "metadata": {},
   "outputs": [
    {
     "name": "stdin",
     "output_type": "stream",
     "text": [
      "Enter a year:  2016\n"
     ]
    },
    {
     "name": "stdout",
     "output_type": "stream",
     "text": [
      "2016 is not a century year.\n"
     ]
    }
   ],
   "source": [
    "# Input a year from the user\n",
    "year = int(input(\"Enter a year: \"))\n",
    "\n",
    "# Check if the year is a century year\n",
    "if year % 100 == 0:\n",
    "    print(f\"{year} is a century year.\")\n",
    "else:\n",
    "    print(f\"{year} is not a century year.\")"
   ]
  },
  {
   "cell_type": "markdown",
   "id": "d7cd49a2-e43a-49d4-a4a4-c0d6f36984ee",
   "metadata": {},
   "source": [
    "### 20. Write a Python program to determine if a given number is a perfect square using if-else.\n"
   ]
  },
  {
   "cell_type": "code",
   "execution_count": 16,
   "id": "055a754f-8d93-48ab-8664-e983848e11c9",
   "metadata": {},
   "outputs": [
    {
     "name": "stdin",
     "output_type": "stream",
     "text": [
      "Enter a number:  5\n"
     ]
    },
    {
     "name": "stdout",
     "output_type": "stream",
     "text": [
      "5 is not a perfect square.\n"
     ]
    }
   ],
   "source": [
    "# Input a number from the user\n",
    "number = int(input(\"Enter a number: \"))\n",
    "\n",
    "# Calculate the square root of the number\n",
    "square_root = number ** 0.5\n",
    "\n",
    "# Check if the square root is an integer (whole number)\n",
    "if square_root.is_integer():\n",
    "    print(f\"{number} is a perfect square.\")\n",
    "else:\n",
    "    print(f\"{number} is not a perfect square.\")"
   ]
  },
  {
   "cell_type": "markdown",
   "id": "fcf583c1-8a7f-4334-a53f-b3b42dd5c386",
   "metadata": {},
   "source": [
    "#### 21. Explain the purpose of the \"continue\" and \"break\" statements within if-else loops.\n"
   ]
  },
  {
   "cell_type": "markdown",
   "id": "470805ab-c996-44b5-bfcc-f2733c6b43f9",
   "metadata": {},
   "source": [
    "\n",
    "The \"continue\" and \"break\" statements are control flow statements in Python, and they serve distinct purposes within loops, including \"for\" and \"while\" loops. Here's an explanation of the purpose of each:\n",
    "\n",
    "1. \"continue\" statement:\n",
    "The \"continue\" statement is used to skip the current iteration of a loop and proceed to the next iteration. When encountered, the \"continue\" statement allows you to bypass the remaining code within the current iteration and jump back to the loop's condition-checking step. It's particularly useful when you want to exclude certain items or conditions from being processed within the loop.\n",
    "\n",
    "For example, you might use \"continue\" to skip specific elements in a list that don't meet certain criteria:\n",
    "\n",
    "numbers = [1, 2, 3, 4, 5, 6, 7, 8, 9]\n",
    "for num in numbers:\n",
    "    if num % 2 == 0:  # Skip even numbers\n",
    "        continue\n",
    "    print(num)\n",
    "    \n",
    "In this example, the \"continue\" statement is used to skip even numbers, and only odd numbers are printed.\n",
    "\n",
    "2. \"break\" statement:\n",
    "The \"break\" statement is used to exit a loop prematurely when a specific condition is met. It effectively terminates the loop and continues with the code outside of the loop. \"break\" is commonly used when you want to stop the loop as soon as you find what you're looking for or when a certain condition is satisfied.\n",
    "\n",
    "For example, you might use \"break\" to exit a loop when a target element is found:\n",
    "\n",
    "\n",
    "fruits = [\"apple\", \"banana\", \"cherry\", \"date\", \"elderberry\"]\n",
    "target_fruit = \"date\"\n",
    "for fruit in fruits:\n",
    "    if fruit == target_fruit:\n",
    "        print(f\"{target_fruit} found!\")\n",
    "        break\n",
    "        \n",
    "In this example, the loop terminates as soon as the target fruit (\"date\") is found, and the message is printed.\n",
    "\n",
    "In summary, the \"continue\" statement is used to skip the current iteration and move to the next iteration, while the \"break\" statement is used to exit the loop prematurely when a specific condition is met. These statements are valuable for controlling the flow of your loops based on the conditions you need to check within the loop."
   ]
  },
  {
   "cell_type": "markdown",
   "id": "9b788b80-f464-4735-b467-1cf0c8003097",
   "metadata": {},
   "source": [
    "#### 22. Create a Python program that calculates the BMI (Body Mass Index) of a person based on their weight and height using if-else.\n"
   ]
  },
  {
   "cell_type": "code",
   "execution_count": 17,
   "id": "00b5e91a-6523-4af6-9b54-d4a2cd313cb4",
   "metadata": {},
   "outputs": [
    {
     "name": "stdin",
     "output_type": "stream",
     "text": [
      "Enter your weight in kg:  85\n",
      "Enter your weight in m:  6\n"
     ]
    },
    {
     "name": "stdout",
     "output_type": "stream",
     "text": [
      "You are underweight\n"
     ]
    }
   ],
   "source": [
    "weight = float(input('Enter your weight in kg: '))\n",
    "height = float(input('Enter your weight in m: '))\n",
    "\n",
    "BMI  = weight/height**2\n",
    "\n",
    "if BMI < 18.5:\n",
    "    print('You are underweight')\n",
    "elif BMI >= 18.5 and BMI < 25:\n",
    "    print('You have a normal weight')\n",
    "elif BMI >= 25.0 and BMI < 30:\n",
    "    print('You are overweight')\n",
    "else:\n",
    "    print('You are obess')"
   ]
  },
  {
   "cell_type": "markdown",
   "id": "212e80ed-a1b0-4033-baac-beff6ef92f15",
   "metadata": {},
   "source": [
    "#### 23. How can you use the \"filter()\" function with if-else statements to filter elements from a list?"
   ]
  },
  {
   "cell_type": "markdown",
   "id": "c8bcebe9-0aa2-4f10-8e0c-55b4ba88f994",
   "metadata": {},
   "source": [
    "The filter() function in Python is used to filter elements from an iterable, such as a list, based on a given function or condition. While the filter() function itself does not directly involve if-else statements, you can use it in combination with a conditional function (typically a lambda function) to achieve filtering based on if-else conditions. Here's how you can use the filter() function with if-else statements:\n",
    "\n",
    "Example list of numbers\n",
    "numbers = [1, 2, 3, 4, 5, 6, 7, 8, 9, 10]\n",
    "\n",
    "Filter out even numbers using filter() and a lambda function with an if-else condition\n",
    "filtered_numbers = list(filter(lambda x: x % 2 == 0, numbers))\n",
    "\n",
    "print(filtered_numbers)\n",
    "\n",
    "In this example, we use the filter() function to filter out even numbers from the numbers list. We pass a lambda function as the filtering condition. The lambda function contains an if-else statement (x % 2 == 0) that checks if the element x is even. If the condition is True, the element is included in the filtered_numbers list; otherwise, it is excluded.\n",
    "\n",
    "The result is a new list, filtered_numbers, containing only the even numbers from the original list.\n",
    "\n",
    "You can customize the lambda function and if-else condition to filter elements from a list based on your specific criteria. This allows you to filter and create new lists based on various conditions."
   ]
  },
  {
   "cell_type": "markdown",
   "id": "8276ede5-b0d7-46a6-b8a0-a5528f38fcf0",
   "metadata": {},
   "source": [
    "#### 24. Write a Python program to determine if a given number is prime or not using if-else.\n"
   ]
  },
  {
   "cell_type": "code",
   "execution_count": 1,
   "id": "536b4d27-2d15-4106-9214-8c067b45a998",
   "metadata": {},
   "outputs": [
    {
     "name": "stdin",
     "output_type": "stream",
     "text": [
      "Enter a number:  14\n"
     ]
    },
    {
     "name": "stdout",
     "output_type": "stream",
     "text": [
      "14 is not a prime number\n"
     ]
    }
   ],
   "source": [
    "# Get user input\n",
    "num = int(input(\"Enter a number: \"))\n",
    "\n",
    "# Check if the number is less than 2 (not prime)\n",
    "if num < 2:\n",
    "    print(f\"{num} is not a prime number\")\n",
    "else:\n",
    "    is_prime = True\n",
    "\n",
    "    # Check for factors from 2 to the square root of the number\n",
    "    for i in range(2, int(num**0.5) + 1):\n",
    "        if num % i == 0:\n",
    "            is_prime = False\n",
    "            break\n",
    "\n",
    "    # Check the result of the prime check\n",
    "    if is_prime:\n",
    "        print(f\"{num} is a prime number\")\n",
    "    else:\n",
    "        print(f\"{num} is not a prime number\")"
   ]
  },
  {
   "cell_type": "markdown",
   "id": "ef500b9e-e2a1-4acb-b2bf-7f9920a1184b",
   "metadata": {},
   "source": [
    "### 1. Explain the purpose of the `map()` function in Python and provide an example of how it can be used to apply a function to each element of an iterable"
   ]
  },
  {
   "cell_type": "markdown",
   "id": "d3c908b9-93ac-4626-96ab-9248f605de0d",
   "metadata": {},
   "source": [
    "The map() function in Python is used to apply a specified function to each element of an iterable (e.g., a list, tuple, or any other iterable). It returns an iterator, which can be converted to a list or another iterable, containing the results of applying the function to each element of the original iterable. The purpose of the map() function is to perform element-wise transformations on an iterable without the need for explicit loops.\n",
    "\n",
    "Here's the basic syntax of the map() function:\n",
    "\n",
    "map(function, iterable)\n",
    "function: This is the function that you want to apply to each element of the iterable.\n",
    "iterable: This is the iterable (e.g., list, tuple) whose elements you want to process with the function.\n",
    "Here's an example of how the map() function can be used to square each element of a list:\n",
    "\n",
    "Define a function to square a number\n",
    "\n",
    "def square(x):\n",
    "    return x ** 2\n",
    "\n",
    "Create a list of numbers\n",
    "numbers = [1, 2, 3, 4, 5]\n",
    "\n",
    "Use the map() function to apply the square function to each element\n",
    "squared_numbers = list(map(square, numbers))\n",
    "\n",
    "Print the squared numbers\n",
    "\n",
    "print(squared_numbers)\n",
    "In this example:\n",
    "\n",
    "We define a function called square(x) that takes a number x and returns its square.\n",
    "\n",
    "We create a list called numbers containing some integers.\n",
    "\n",
    "We use the map() function to apply the square() function to each element of the numbers list. The result is an iterator, so we convert it to a list using list(). This produces a list of squared numbers.\n",
    "\n",
    "Finally, we print the squared_numbers, which contains the squared values of the original list.\n",
    "\n",
    "The map() function is particularly useful when you need to apply a function to all elements of an iterable and collect the results in a new iterable without writing explicit loops."
   ]
  },
  {
   "cell_type": "markdown",
   "id": "9c7d5ceb-2279-480d-a3be-a618832269d0",
   "metadata": {},
   "source": [
    "### 2. Write a Python program that uses the `map()` function to square each element of a list of numbers."
   ]
  },
  {
   "cell_type": "code",
   "execution_count": 1,
   "id": "95fb9602-d25b-4948-adf6-1b185505a148",
   "metadata": {},
   "outputs": [
    {
     "data": {
      "text/plain": [
       "[4, 25, 16, 9, 16, 25]"
      ]
     },
     "execution_count": 1,
     "metadata": {},
     "output_type": "execute_result"
    }
   ],
   "source": [
    "# assign the list to a variable called mylist\n",
    "mylist = [2,5,4,3,4,5]\n",
    "\n",
    "# use the map functon and cast it into a list\n",
    "list(map(lambda a: a**2, mylist))"
   ]
  },
  {
   "cell_type": "code",
   "execution_count": null,
   "id": "5ef36df1-8021-4404-9ba5-0adbc5d4e985",
   "metadata": {},
   "outputs": [],
   "source": []
  },
  {
   "cell_type": "markdown",
   "id": "f6bcd903-1ca3-4b64-85e2-0967e16e32e8",
   "metadata": {},
   "source": [
    "he map() function and list comprehensions in Python are both used for applying a function or an expression to elements in an iterable. However, they differ in their use cases and flexibility:\n",
    "\n",
    "#### Map Function:\n",
    "\n",
    "The map() function is a built-in Python function that takes a function and an iterable as arguments. It returns an iterator containing the results of applying the function to each element of the iterable.\n",
    "\n",
    "map() is particularly useful when you want to apply a specific function to all elements of an iterable and collect the results in an iterable without writing explicit loops.\n",
    "\n",
    "It can be used with any iterable (lists, tuples, sets, etc.), and the function can be any callable function, including user-defined functions.\n",
    "\n",
    "#### List Comprehensions:\n",
    "\n",
    "List comprehensions provide a concise and readable way to create new lists by applying an expression to each element of an iterable.\n",
    "\n",
    "List comprehensions can be used to filter elements based on a condition. You can include if statements to filter out elements that don't meet a certain criteria.\n",
    "\n",
    "List comprehensions result in a list, not an iterator, so the result is immediately available for further processing or printing.\n",
    "\n",
    "List comprehensions are often used for generating new lists or modifying existing ones.\n",
    "\n",
    "When to Choose One Over the Other:\n",
    "\n",
    "You can choose between map() and list comprehensions based on your specific requirements:\n",
    "\n",
    "Use map() when you want to apply a specific function to every element in an iterable, and you're primarily interested in the transformed results. If you only need the results and don't require additional filtering or conditional operations, map() can be more concise.\n",
    "\n",
    "Use list comprehensions when you want to create a new list by applying an expression to each element and, optionally, filter elements based on conditions. List comprehensions are more versatile and expressive in such cases.\n",
    "\n",
    "In practice, the choice between map() and list comprehensions often depends on the complexity of the operation you need to perform. If you need to apply a simple transformation to every element, map() may be more concise. However, if your operation involves more complex logic, filtering, or conditional processing, list comprehensions can provide better readability and flexibility."
   ]
  },
  {
   "cell_type": "markdown",
   "id": "da780a83-b56b-40f9-b62a-ced13b23f232",
   "metadata": {},
   "source": [
    "### 4. Create a Python program that uses the `map()` function to convert a list of names to uppercase."
   ]
  },
  {
   "cell_type": "code",
   "execution_count": 3,
   "id": "f9c3c833-2e67-4fd3-b84e-adda2a225659",
   "metadata": {},
   "outputs": [
    {
     "data": {
      "text/plain": [
       "['AFAM', 'JUDE', 'NKEM', 'CHIOMA', 'GAFUR']"
      ]
     },
     "execution_count": 3,
     "metadata": {},
     "output_type": "execute_result"
    }
   ],
   "source": [
    "# assign the list to a variable called mylist\n",
    "my_list = ['afam', 'jude', 'nkem', 'chioma', 'gafur']\n",
    "\n",
    "# use the map functon and cast it into a list\n",
    "list(map(lambda a: a.upper(), my_list))"
   ]
  },
  {
   "cell_type": "markdown",
   "id": "d86a92c1-e03c-401d-91aa-a65ece0fffb0",
   "metadata": {},
   "source": [
    "### 5. Write a Python program that uses the `map()` function to calculate the length of each word in a list of strings."
   ]
  },
  {
   "cell_type": "code",
   "execution_count": 5,
   "id": "ee369355-798b-4405-962e-5bb0c2be26e6",
   "metadata": {},
   "outputs": [
    {
     "data": {
      "text/plain": [
       "[4, 4, 4, 6, 5]"
      ]
     },
     "execution_count": 5,
     "metadata": {},
     "output_type": "execute_result"
    }
   ],
   "source": [
    "# assign the list to a variable called words\n",
    "words = ['afam', 'jude', 'nkem', 'chioma', 'gafur']\n",
    "\n",
    "# use the map functon and cast it into a list\n",
    "list(map(lambda a: len(a), words))"
   ]
  },
  {
   "cell_type": "markdown",
   "id": "4cb12a25-f829-4518-a7ee-b2220dd73640",
   "metadata": {},
   "source": [
    "### 6. How can you use the `map()` function to apply a custom function to elements of multiple lists simultaneously in Python?\n"
   ]
  },
  {
   "cell_type": "markdown",
   "id": "5695868a-dce0-4332-ac10-26040fe0369b",
   "metadata": {},
   "source": [
    "To use the map() function to apply a custom function to elements of multiple lists simultaneously in Python, you can pass multiple iterable arguments to map(). Here's how you can do it:\n",
    "\n",
    "Define a custom function that takes as many arguments as the number of iterable objects you want to process simultaneously.\n",
    "\n",
    "Use map() to apply this custom function to the multiple iterables. Pass the custom function and the iterables as arguments to map().\n",
    "\n",
    "Collect the results in an iterable (e.g., a list) or process them as needed.\n",
    "\n",
    "Here's an example:\n",
    "\n",
    "#### Define a custom function that takes two arguments\n",
    "def custom_function(a, b):\n",
    "    return a * b\n",
    "\n",
    "#### Define two lists\n",
    "list1 = [1, 2, 3]\n",
    "list2 = [4, 5, 6]\n",
    "\n",
    "#### Use map() to apply the custom function to both lists\n",
    "result = map(custom_function, list1, list2)\n",
    "\n",
    "#### Collect the results in a list (or other iterable)\n",
    "result_list = list(result)\n",
    "\n",
    "#### Print the result\n",
    "print(result_list)  # Output: [4, 10, 18]\n",
    "In this example, the custom_function takes two arguments, a and b. We use map() to apply this function to corresponding elements of list1 and list2, resulting in a new list that contains the element-wise products.\n",
    "\n",
    "You can extend this approach to work with more than two iterable objects. Just make sure your custom function accepts the same number of arguments as the number of iterables you're passing to map()."
   ]
  },
  {
   "cell_type": "markdown",
   "id": "94ddd758-7743-4328-8297-2a8d46cf0805",
   "metadata": {},
   "source": [
    "### 7. Create a Python program that uses `map()` to convert a list of temperatures from Celsius to Fahrenheit"
   ]
  },
  {
   "cell_type": "code",
   "execution_count": 7,
   "id": "919ad157-4087-49ad-ad96-ede300bbe1ce",
   "metadata": {},
   "outputs": [
    {
     "name": "stdout",
     "output_type": "stream",
     "text": [
      "[32.0, 77.0, 212.0, 14.0]\n"
     ]
    }
   ],
   "source": [
    "# Create a list of temperatures in Celsius\n",
    "celsius_temperatures = [0, 25, 100, -10]\n",
    "\n",
    "# Use map() to convert the Celsius temperatures to Fahrenheit\n",
    "fahrenheit_temperatures = list(map(lambda x:(x* 9/5) + 32, celsius_temperatures))\n",
    "\n",
    "# Print the result\n",
    "print(fahrenheit_temperatures) "
   ]
  },
  {
   "cell_type": "markdown",
   "id": "9778c359-d5cd-4f7c-b0d1-8f94fa4f682f",
   "metadata": {},
   "source": [
    "### 8. Write a Python program that uses the `map()` function to round each element of a list of floating-point numbers to the nearest integer.\n"
   ]
  },
  {
   "cell_type": "code",
   "execution_count": 8,
   "id": "43e7bbef-3395-421c-9561-036fc2961c86",
   "metadata": {},
   "outputs": [
    {
     "data": {
      "text/plain": [
       "[29, 52, 4, 4, 4, 5]"
      ]
     },
     "execution_count": 8,
     "metadata": {},
     "output_type": "execute_result"
    }
   ],
   "source": [
    "# assign th list to a variable called mylist\n",
    "mylist2 = [28.57,52.335,4.45,3.62,4.50,5.0]\n",
    "\n",
    "# use the map functon and cast it into a list\n",
    "list(map(lambda a: round(a), mylist2))"
   ]
  },
  {
   "cell_type": "markdown",
   "id": "b664829a-64d8-469f-a7b7-d0aa9f0957b1",
   "metadata": {},
   "source": [
    "\n",
    "### 1. What is the `reduce()` function in Python, and what module should you import to use it? Provide an example of its basic usage."
   ]
  },
  {
   "cell_type": "markdown",
   "id": "7a2a9b96-67f4-416a-942d-0074242a2978",
   "metadata": {},
   "source": [
    "The reduce() function in Python is part of the functools module. It's used to apply a given function cumulatively to the items of an iterable, reducing the iterable to a single accumulated result.\n",
    "\n",
    "Here's the basic usage of the reduce() function:\n",
    "\n",
    "Import the functools module: To use reduce(), you need to import the functools module.\n",
    "\n",
    "Define a function: Create a custom function that takes two arguments and returns a result. This function will be applied cumulatively to the elements of the iterable.\n",
    "\n",
    "Use reduce(): Call the reduce() function with your custom function and the iterable you want to reduce.\n",
    "\n",
    "Here's an example that calculates the product of all elements in a list using reduce():"
   ]
  },
  {
   "cell_type": "code",
   "execution_count": 9,
   "id": "16e36af4-a4df-430f-a695-519d24680715",
   "metadata": {},
   "outputs": [
    {
     "data": {
      "text/plain": [
       "120"
      ]
     },
     "execution_count": 9,
     "metadata": {},
     "output_type": "execute_result"
    }
   ],
   "source": [
    "from functools import reduce\n",
    "\n",
    "# Define a custom function to multiply two values\n",
    "def multiply(x, y):\n",
    "    return x * y\n",
    "\n",
    "# Create a list of numbers\n",
    "numbers = [1, 2, 3, 4, 5]\n",
    "\n",
    "# Use reduce() to find the product of all numbers in the list\n",
    "product = reduce(multiply, numbers)\n",
    "\n",
    "product"
   ]
  },
  {
   "cell_type": "markdown",
   "id": "9f6ee7a2-31db-49f6-90a9-c51e275b017d",
   "metadata": {},
   "source": [
    "### 2. Write a Python program that uses the `reduce()` function to find the product of all elements in a list."
   ]
  },
  {
   "cell_type": "code",
   "execution_count": 2,
   "id": "21c402b9-1b23-468e-a71f-7e6c1fea52aa",
   "metadata": {},
   "outputs": [
    {
     "data": {
      "text/plain": [
       "120"
      ]
     },
     "execution_count": 2,
     "metadata": {},
     "output_type": "execute_result"
    }
   ],
   "source": [
    "from functools import reduce\n",
    "\n",
    "# Define a custom function to multiply two values\n",
    "def multiply(x, y):\n",
    "    return x * y\n",
    "\n",
    "# Create a list of numbers\n",
    "numbers = [1, 2, 3, 4, 5]\n",
    "\n",
    "# Use reduce() to find the product of all numbers in the list\n",
    "product = reduce(multiply, numbers)\n",
    "\n",
    "product"
   ]
  },
  {
   "cell_type": "markdown",
   "id": "e5eae121-6c47-49f9-bf73-0141731afa49",
   "metadata": {},
   "source": [
    "### 3. Create a Python program that uses `reduce()` to find the maximum element in a list of numbers.\n"
   ]
  },
  {
   "cell_type": "code",
   "execution_count": 5,
   "id": "1bd37765-d9fa-4d6f-b0ac-8f0bd2c7b881",
   "metadata": {},
   "outputs": [
    {
     "data": {
      "text/plain": [
       "22"
      ]
     },
     "execution_count": 5,
     "metadata": {},
     "output_type": "execute_result"
    }
   ],
   "source": [
    "from functools import reduce\n",
    "\n",
    "# Define a custom function to multiply two values\n",
    "def maximum(*args):\n",
    "    return max(args)\n",
    "\n",
    "# Create a list of numbers\n",
    "numbers = [1, 2, 7, 4, 5, 22, 5, 18, 3]\n",
    "\n",
    "max1 = reduce(maximum, numbers)\n",
    "\n",
    "max1"
   ]
  },
  {
   "cell_type": "markdown",
   "id": "d7c843ae-dfe9-4b05-b31e-31e77c53936d",
   "metadata": {},
   "source": [
    "### 4. How can you use the `reduce()` function to concatenate a list of strings into a single string?"
   ]
  },
  {
   "cell_type": "code",
   "execution_count": 15,
   "id": "5e11bc6d-5f74-4d7f-9c12-ccdaa471e84d",
   "metadata": {},
   "outputs": [
    {
     "name": "stdout",
     "output_type": "stream",
     "text": [
      "This is a list of strings\n"
     ]
    }
   ],
   "source": [
    "from functools import reduce\n",
    "\n",
    "# Define a custom function to concatenate two strings\n",
    "def concatenate_strings(string1, string2):\n",
    "    return string1 + ' ' + string2\n",
    "\n",
    "# Create a list of strings\n",
    "string_list = ['This', 'is', 'a', 'list', 'of', 'strings']\n",
    "\n",
    "# Use reduce() to concatenate the strings in the list\n",
    "result = reduce(concatenate_strings, string_list)\n",
    "\n",
    "# Print the concatenated string\n",
    "print(result)  # Output: 'This is a list of strings'"
   ]
  },
  {
   "cell_type": "markdown",
   "id": "eb20c9f2-8834-49ad-a69b-7d493451a082",
   "metadata": {},
   "source": [
    "### 5. Write a Python program that calculates the factorial of a number using the `reduce()` function."
   ]
  },
  {
   "cell_type": "code",
   "execution_count": 29,
   "id": "e02084a6-b0c1-450c-8f52-bbf4f420a79f",
   "metadata": {},
   "outputs": [
    {
     "name": "stdin",
     "output_type": "stream",
     "text": [
      "Enter a number:  6\n"
     ]
    },
    {
     "name": "stdout",
     "output_type": "stream",
     "text": [
      "The factorial of 6 is 720\n"
     ]
    }
   ],
   "source": [
    "from functools import reduce\n",
    "\n",
    "# Define a custom function to calculate the factorial\n",
    "def calculate_factorial(result, num):\n",
    "    return result * num\n",
    "\n",
    "# Input the number for which you want to calculate the factorial\n",
    "num = int(input(\"Enter a number: \"))\n",
    "\n",
    "# Create a list of numbers from 1 to the input number\n",
    "numbers = list(range(1, num + 1))\n",
    "\n",
    "# Use reduce() to calculate the factorial\n",
    "factorial = reduce(calculate_factorial, numbers, 1)\n",
    "\n",
    "# Print the factorial of the input number\n",
    "print(f\"The factorial of {num} is {factorial}\")"
   ]
  },
  {
   "cell_type": "code",
   "execution_count": 28,
   "id": "fcb62763-ac76-4ad8-ba2a-da734ff6f426",
   "metadata": {},
   "outputs": [
    {
     "name": "stdin",
     "output_type": "stream",
     "text": [
      "Enter a number greater than 0 7\n"
     ]
    },
    {
     "name": "stdout",
     "output_type": "stream",
     "text": [
      "The factorial of 7 is 5040\n"
     ]
    }
   ],
   "source": [
    "# get a user input\n",
    "try:\n",
    "    number = int(input('Enter a number greater than 0'))\n",
    "    num = 1\n",
    "\n",
    "    for i in range(1,number+1):\n",
    "        if number > 0:\n",
    "            num *= i\n",
    "        elif number <= 0:\n",
    "            print('Invalid. try to input a number greater 0')\n",
    "        else:\n",
    "            print('You did not enter a number')\n",
    "    print(f'The factorial of {number} is {num}')\n",
    "except Exception as e:\n",
    "    print(e)"
   ]
  },
  {
   "cell_type": "markdown",
   "id": "3147e29d-618a-41d5-a8ce-21d2a4a3489c",
   "metadata": {},
   "source": [
    "### 6. Create a Python program that uses `reduce()` to find the GCD (Greatest Common Divisor) of a list of numbers."
   ]
  },
  {
   "cell_type": "code",
   "execution_count": 30,
   "id": "af4df8ac-cc08-4dbc-9735-4aa09500f89e",
   "metadata": {},
   "outputs": [
    {
     "name": "stdout",
     "output_type": "stream",
     "text": [
      "The GCD of the numbers [24, 36, 48, 60] is 12\n"
     ]
    }
   ],
   "source": [
    "import math\n",
    "from functools import reduce\n",
    "\n",
    "# List of numbers for which you want to find the GCD\n",
    "numbers = [24, 36, 48, 60]\n",
    "\n",
    "# Define a custom function to find the GCD of two numbers\n",
    "def find_gcd(x, y):\n",
    "    return math.gcd(x, y)\n",
    "\n",
    "# Use reduce() to find the GCD of the entire list\n",
    "gcd_result = reduce(find_gcd, numbers)\n",
    "\n",
    "# Print the GCD of the list of numbers\n",
    "print(f\"The GCD of the numbers {numbers} is {gcd_result}\")"
   ]
  },
  {
   "cell_type": "markdown",
   "id": "d01b6b7c-6d88-4665-ab10-0f13d9536393",
   "metadata": {},
   "source": [
    "### 7. Write a Python program that uses the `reduce()` function to find the sum of the digits of a given number.\n"
   ]
  },
  {
   "cell_type": "code",
   "execution_count": 32,
   "id": "f266cbe8-a0f7-408e-ad5e-ffc3c136483b",
   "metadata": {},
   "outputs": [
    {
     "data": {
      "text/plain": [
       "15"
      ]
     },
     "execution_count": 32,
     "metadata": {},
     "output_type": "execute_result"
    }
   ],
   "source": [
    "from functools import reduce\n",
    "\n",
    "# Define a custom function to multiply two values\n",
    "def addition(x, y):\n",
    "    return x + y\n",
    "\n",
    "# Create a list of numbers\n",
    "numbers = [1, 2, 3, 4, 5]\n",
    "\n",
    "# Use reduce() to find the product of all numbers in the list\n",
    "total = reduce(addition, numbers)\n",
    "\n",
    "total"
   ]
  },
  {
   "cell_type": "markdown",
   "id": "741c72dc-e3d9-4abb-932f-463559478865",
   "metadata": {},
   "source": [
    "### 1. Explain the purpose of the `filter()` function in Python and provide an example of how it can be used to filter elements from an iterable."
   ]
  },
  {
   "cell_type": "markdown",
   "id": "c691960f-d027-415e-8a99-921b2f82ba10",
   "metadata": {},
   "source": [
    "The filter() function in Python is used to filter elements from an iterable based on a specified condition or function. It returns a new iterable (typically a list) containing only the elements for which the condition or function evaluates to True.\n",
    "\n",
    "We have an exampble below"
   ]
  },
  {
   "cell_type": "code",
   "execution_count": null,
   "id": "6254840c-72ce-417f-b6cd-93ce93b014c6",
   "metadata": {},
   "outputs": [],
   "source": [
    "# Define a list of numbers\n",
    "numbers = [1, 2, 3, 4, 5, 6, 7, 8, 9, 10]\n",
    "\n",
    "# Define a function to check if a number is even\n",
    "def is_even(x):\n",
    "    return x % 2 == 0\n",
    "\n",
    "# Use the filter() function to filter even numbers\n",
    "even_numbers = list(filter(is_even, numbers))\n",
    "\n",
    "# Print the filtered list of even numbers\n",
    "print(even_numbers)"
   ]
  },
  {
   "cell_type": "markdown",
   "id": "4ccaa866-f83d-480a-b537-84fba139eec8",
   "metadata": {},
   "source": [
    "In this example, we have a list of numbers. We define a custom function, is_even, that checks if a number is even (i.e., divisible by 2). We then use the filter() function to filter the even numbers from the numbers list based on the is_even function. The result is a new list, even_numbers, containing only the even elements from the original list.\n",
    "\n",
    "The filter() function is useful for selectively extracting elements from an iterable that satisfy a specific condition or criteria, making it a powerful tool for data filtering and processing."
   ]
  },
  {
   "cell_type": "markdown",
   "id": "8bc0cfc4-1f1e-47f0-b280-f68a434c8f0d",
   "metadata": {},
   "source": [
    "### 2. Write a Python program that uses the `filter()` function to select even numbers from a list of integers."
   ]
  },
  {
   "cell_type": "code",
   "execution_count": 35,
   "id": "e5d1c4fd-3efb-4ed1-a30a-cd07016acc2e",
   "metadata": {},
   "outputs": [
    {
     "data": {
      "text/plain": [
       "[2, 4, 6, 8, 10]"
      ]
     },
     "execution_count": 35,
     "metadata": {},
     "output_type": "execute_result"
    }
   ],
   "source": [
    "numbers = [1, 2, 3, 4, 5, 6, 7, 8, 9, 10]\n",
    "\n",
    "# Use the filter() function to filter even numbers\n",
    "even_numbers = list(filter(lambda x: x%2 == 0, numbers))\n",
    "\n",
    "even_numbers\n"
   ]
  },
  {
   "cell_type": "markdown",
   "id": "796fae8e-d540-4db7-b024-c7084f452f61",
   "metadata": {},
   "source": [
    "### 3. Create a Python program that uses the `filter()` function to select names that start with a specific letter from a list of strings."
   ]
  },
  {
   "cell_type": "code",
   "execution_count": 38,
   "id": "a95c2b98-a29b-48e1-9671-ca72669b13d6",
   "metadata": {},
   "outputs": [
    {
     "name": "stdout",
     "output_type": "stream",
     "text": [
      "['Chiedu', 'Chiabuzor', 'Chinelo']\n"
     ]
    }
   ],
   "source": [
    "names = ['Chiedu', 'Kelvin', 'Nkem', 'Chiabuzor', 'Kido', 'Chinelo']\n",
    "\n",
    "new_names = []\n",
    "\n",
    "for i in names:\n",
    "    if i[0] == 'C':\n",
    "        new_names.append(i)\n",
    "\n",
    "print(new_names)\n"
   ]
  },
  {
   "cell_type": "code",
   "execution_count": 39,
   "id": "d937183b-80dc-440b-aae4-04664353ce17",
   "metadata": {},
   "outputs": [
    {
     "data": {
      "text/plain": [
       "['Kelvin', 'Kido']"
      ]
     },
     "execution_count": 39,
     "metadata": {},
     "output_type": "execute_result"
    }
   ],
   "source": [
    "# numbers = [1, 2, 3, 4, 5, 6, 7, 8, 9, 10]\n",
    "\n",
    "# Use the filter() function to filter even numbers\n",
    "new_namelist= list(filter(lambda x: x[0] == 'K', names))\n",
    "\n",
    "new_namelist\n"
   ]
  },
  {
   "cell_type": "markdown",
   "id": "c36f74d4-b232-4efe-8746-858613c09d10",
   "metadata": {},
   "source": [
    "### 4. Write a Python program that uses the `filter()` function to select prime numbers from a list of integers.\n"
   ]
  },
  {
   "cell_type": "code",
   "execution_count": 40,
   "id": "c6846eaf-dc61-4dc6-b256-9fd2138e1752",
   "metadata": {},
   "outputs": [
    {
     "name": "stdout",
     "output_type": "stream",
     "text": [
      "[2, 3, 5, 7, 11]\n"
     ]
    }
   ],
   "source": [
    "# Define a function to check if a number is prime\n",
    "def is_prime(number):\n",
    "    if number <= 1:\n",
    "        return False\n",
    "    if number <= 3:\n",
    "        return True\n",
    "    if number % 2 == 0 or number % 3 == 0:\n",
    "        return False\n",
    "    i = 5\n",
    "    while i * i <= number:\n",
    "        if number % i == 0 or number % (i + 2) == 0:\n",
    "            return False\n",
    "        i += 6\n",
    "    return True\n",
    "\n",
    "# List of integers\n",
    "numbers = [2, 3, 4, 5, 6, 7, 8, 9, 10, 11]\n",
    "\n",
    "# Use the filter() function to select prime numbers\n",
    "prime_numbers = list(filter(is_prime, numbers))\n",
    "\n",
    "# Print the list of prime numbers\n",
    "print(prime_numbers)"
   ]
  },
  {
   "cell_type": "markdown",
   "id": "30093d1e-0dba-4c6b-b086-591a332dc6ec",
   "metadata": {},
   "source": [
    "### 5. How can you use the `filter()` function to remove None values from a list in Python?"
   ]
  },
  {
   "cell_type": "code",
   "execution_count": 41,
   "id": "58147c9f-1983-460b-bfa4-f62488543b99",
   "metadata": {},
   "outputs": [
    {
     "name": "stdout",
     "output_type": "stream",
     "text": [
      "[1, 2, 3, 4, 5]\n"
     ]
    }
   ],
   "source": [
    "# Define a list with some None values\n",
    "my_list = [1, None, 2, 3, None, 4, 5, None]\n",
    "\n",
    "# Use the filter() function to remove None values\n",
    "filtered_list = list(filter(lambda x: x is not None, my_list))\n",
    "\n",
    "# Print the filtered list\n",
    "print(filtered_list)"
   ]
  },
  {
   "cell_type": "markdown",
   "id": "20163988-66b7-4b60-867e-87ef4b056759",
   "metadata": {},
   "source": [
    "### 6. Create a Python program that uses `filter()` to select words longer than a certain length from a list of strings."
   ]
  },
  {
   "cell_type": "code",
   "execution_count": 42,
   "id": "7a6d6a11-8bca-42fe-bef0-dfca65d7ae74",
   "metadata": {},
   "outputs": [
    {
     "name": "stdout",
     "output_type": "stream",
     "text": [
      "['apple', 'banana', 'cherry', 'elderberry', 'grape']\n"
     ]
    }
   ],
   "source": [
    "# Define a list of strings\n",
    "word_list = [\"apple\", \"banana\", \"cherry\", \"date\", \"elderberry\", \"fig\", \"grape\"]\n",
    "\n",
    "# Use the filter() function to select words longer than the minimum length\n",
    "filtered_words = list(filter(lambda word: len(word) > 4, word_list))\n",
    "\n",
    "# Print the filtered words\n",
    "print(filtered_words)\n"
   ]
  },
  {
   "cell_type": "markdown",
   "id": "f6edab2d-7587-4ddf-879d-df4ee40b0b3d",
   "metadata": {},
   "source": [
    "### 7. Write a Python program that uses the `filter()` function to select elements greater than a specified threshold from a list of values.\n"
   ]
  },
  {
   "cell_type": "code",
   "execution_count": 43,
   "id": "d8fb8d79-6c0d-4ddc-94b1-254e44dbe13f",
   "metadata": {},
   "outputs": [
    {
     "name": "stdout",
     "output_type": "stream",
     "text": [
      "[25, 30, 40]\n"
     ]
    }
   ],
   "source": [
    "# Define a list of values\n",
    "values = [10, 25, 5, 30, 15, 8, 40]\n",
    "\n",
    "# Specify the threshold value for filtering\n",
    "threshold = 20\n",
    "\n",
    "# Use the filter() function to select elements greater than the threshold\n",
    "filtered_values = list(filter(lambda x: x > threshold, values))\n",
    "\n",
    "# Print the filtered values\n",
    "print(filtered_values)"
   ]
  },
  {
   "cell_type": "markdown",
   "id": "de221873-aa8e-487c-9c29-806fa35e1050",
   "metadata": {},
   "source": [
    "### 1. Explain the concept of recursion in Python. How does it differ from iteration?"
   ]
  },
  {
   "cell_type": "markdown",
   "id": "36d2d1a2-503e-4fa7-a6ba-018ccc62bab2",
   "metadata": {},
   "source": [
    "Recursion and iteration are two different approaches to solving problems that involve repetitive tasks. Let's explore the concept of recursion in Python and how it differs from iteration:\n",
    "\n",
    "Recursion:\n",
    "\n",
    "Recursion is a programming technique in which a function calls itself to solve a problem. In Python, a recursive function is a function that performs some task and makes a call to itself with modified arguments. This process continues until a base case is reached, at which point the function stops calling itself and starts returning values back up the call stack.\n",
    "\n",
    "Key characteristics of recursion:\n",
    "\n",
    "Base Case: Every recursive function must have one or more base cases, which are the conditions under which the function stops calling itself. Base cases are crucial to prevent infinite recursion.\n",
    "\n",
    "Divide and Conquer: Recursion often involves breaking a problem down into smaller subproblems and solving each subproblem by making a recursive call. The results of these subproblems are combined to solve the original problem.\n",
    "\n",
    "Function Call Stack: Recursion uses the function call stack to keep track of function calls. Each function call is pushed onto the stack, and when a base case is reached, the stack is unwound as the functions return their results.\n",
    "\n",
    "Iteration:\n",
    "\n",
    "Iteration is the process of repeating a set of instructions a specified number of times or until a condition is met. In Python, iteration is typically achieved using loops like for and while. It involves repeatedly executing a block of code until the loop's condition becomes false.\n",
    "\n",
    "Key characteristics of iteration:\n",
    "\n",
    "Explicit Control: In iteration, you have explicit control over the flow of execution. You determine the number of times the loop runs or when it terminates.\n",
    "\n",
    "Loop Variables: Iteration often involves using loop variables to keep track of the state or progress within a loop.\n",
    "\n",
    "No Function Calls: Unlike recursion, iteration does not involve function calls. It uses loops to repeatedly execute a set of instructions.\n",
    "\n",
    "Differences:\n",
    "\n",
    "Control Flow: Recursion relies on function calls and a call stack, while iteration uses explicit loop constructs to control the flow of execution.\n",
    "\n",
    "Readability: Iteration can be more readable and easier to understand for certain problems, especially when the control flow is straightforward. Recursion can be more elegant for problems that involve self-similar subproblems.\n",
    "\n",
    "Performance: In some cases, iteration can be more efficient in terms of both time and space, as it doesn't involve the overhead of function calls and maintaining a call stack. Recursion can lead to stack overflow errors for very deep recursive calls.\n",
    "\n",
    "When to Use:\n",
    "\n",
    "Use recursion when the problem can be naturally divided into smaller, similar subproblems. Recursive solutions are common in problems involving trees, graphs, and divide-and-conquer algorithms.\n",
    "Use iteration when you have better control over the flow, or when you want to avoid the overhead of function calls and stack memory usage.\n",
    "The choice between recursion and iteration depends on the problem's nature and requirements. Both techniques have their strengths and weaknesses, and the choice of approach should be based on the specific problem being solved."
   ]
  },
  {
   "cell_type": "markdown",
   "id": "a6de01f0-ad31-4503-ae69-252ae47781e0",
   "metadata": {},
   "source": [
    "### 2. Write a Python program to calculate the factorial of a number using recursion.\n"
   ]
  },
  {
   "cell_type": "code",
   "execution_count": 1,
   "id": "3bf35efc-1718-4705-884a-2c16eb765838",
   "metadata": {},
   "outputs": [
    {
     "name": "stdin",
     "output_type": "stream",
     "text": [
      "Enter a number:  7\n"
     ]
    },
    {
     "name": "stdout",
     "output_type": "stream",
     "text": [
      "The factorial of 7 is 5040\n"
     ]
    }
   ],
   "source": [
    "def factorial(n):\n",
    "    if n == 0:\n",
    "        return 1\n",
    "    else:\n",
    "        return n * factorial(n - 1)\n",
    "\n",
    "# Input from the user\n",
    "num = int(input(\"Enter a number: \"))\n",
    "\n",
    "# Check if the number is negative\n",
    "if num < 0:\n",
    "    print(\"Factorial is not defined for negative numbers.\")\n",
    "elif num == 0:\n",
    "    print(\"The factorial of 0 is 1.\")\n",
    "else:\n",
    "    result = factorial(num)\n",
    "    print(f\"The factorial of {num} is {result}\")"
   ]
  },
  {
   "cell_type": "markdown",
   "id": "afb4e967-1cd2-40bd-a5de-0fc72aa07e4a",
   "metadata": {},
   "source": [
    "### 3. Create a recursive Python function to find the nth Fibonacci number"
   ]
  },
  {
   "cell_type": "code",
   "execution_count": 2,
   "id": "a49ecd18-cad1-46a2-884c-01fb363b894a",
   "metadata": {},
   "outputs": [
    {
     "name": "stdin",
     "output_type": "stream",
     "text": [
      "Enter a positive integer (n):  5\n"
     ]
    },
    {
     "name": "stdout",
     "output_type": "stream",
     "text": [
      "The 5th Fibonacci number is 3\n"
     ]
    }
   ],
   "source": [
    "def fibonacci(n):\n",
    "    if n <= 0:\n",
    "        return \"Invalid input\"\n",
    "    elif n == 1:\n",
    "        return 0\n",
    "    elif n == 2:\n",
    "        return 1\n",
    "    else:\n",
    "        return fibonacci(n - 1) + fibonacci(n - 2)\n",
    "\n",
    "# Input from the user\n",
    "n = int(input(\"Enter a positive integer (n): \"))\n",
    "\n",
    "if n <= 0:\n",
    "    print(\"Please enter a positive integer.\")\n",
    "else:\n",
    "    result = fibonacci(n)\n",
    "    print(f\"The {n}th Fibonacci number is {result}\")\n"
   ]
  },
  {
   "cell_type": "markdown",
   "id": "f16d4271-c55d-4646-9305-acae01b64a2a",
   "metadata": {},
   "source": [
    "### 4. Write a recursive Python function to calculate the sum of all elements in a list."
   ]
  },
  {
   "cell_type": "code",
   "execution_count": 3,
   "id": "24ba07c4-0a89-42a9-a1b4-c5524d91a51c",
   "metadata": {},
   "outputs": [
    {
     "name": "stdout",
     "output_type": "stream",
     "text": [
      "The sum of the elements in the list is: 15\n"
     ]
    }
   ],
   "source": [
    "def recursive_sum(arr):\n",
    "    if len(arr) == 0:\n",
    "        return 0\n",
    "    else:\n",
    "        return arr[0] + recursive_sum(arr[1:])\n",
    "\n",
    "# Example list\n",
    "my_list = [1, 2, 3, 4, 5]\n",
    "\n",
    "result = recursive_sum(my_list)\n",
    "print(f\"The sum of the elements in the list is: {result}\")"
   ]
  },
  {
   "cell_type": "markdown",
   "id": "234a7199-af0a-4aef-96fe-1d3dcefbad67",
   "metadata": {},
   "source": [
    "### 5. How can you prevent a recursive function from running indefinitely, causing a stack overflow error?\n"
   ]
  },
  {
   "cell_type": "markdown",
   "id": "147ddcb8-1de2-4552-8881-369696391554",
   "metadata": {},
   "source": [
    "To prevent a recursive function from running indefinitely and causing a stack overflow error, you can follow these strategies:\n",
    "\n",
    "Base Case: Always define a base case that determines when the recursion should stop. This is the most crucial part of a recursive function. When the base case is met, the function should return a result rather than making a recursive call.\n",
    "\n",
    "Ensure Progress: Ensure that each recursive call moves towards the base case. In other words, the input to the next recursive call should be getting closer to the base case.\n",
    "\n",
    "Limit Recursion Depth: In some cases, it might be necessary to limit the depth of recursion. You can use a counter or a depth limit parameter to control how deep the recursion goes. This is useful when you want to prevent excessive recursion in cases where a base case might not be reached.\n",
    "\n",
    "Here's an example of a recursive function to calculate the factorial of a number with a base case:\n",
    "\n",
    "def factorial(n):\n",
    "    # Base case: If n is 0 or 1, return 1\n",
    "    if n == 0 or n == 1:\n",
    "        return 1\n",
    "    # Recursive case: Multiply n by factorial of (n-1)\n",
    "    else:\n",
    "        return n * factorial(n - 1)\n",
    "In this example, the base case is when n is 0 or 1, and it returns 1. This prevents the function from running indefinitely."
   ]
  },
  {
   "cell_type": "markdown",
   "id": "7aa4ea17-b956-4cba-9771-57c7e933660f",
   "metadata": {},
   "source": [
    "### 6. Create a recursive Python function to find the greatest common divisor (GCD) of two numbers using the Euclidean algorithm."
   ]
  },
  {
   "cell_type": "code",
   "execution_count": 4,
   "id": "b0f97c27-bdf4-4738-84b9-8a40edddbdc3",
   "metadata": {},
   "outputs": [
    {
     "name": "stdout",
     "output_type": "stream",
     "text": [
      "GCD of 48 and 18 is 6\n"
     ]
    }
   ],
   "source": [
    "def euclidean_gcd(a, b):\n",
    "    # Base case: GCD(a, 0) = a\n",
    "    if b == 0:\n",
    "        return a\n",
    "    # Recursive case: GCD(a, b) = GCD(b, a % b)\n",
    "    else:\n",
    "        return euclidean_gcd(b, a % b)\n",
    "\n",
    "# Test the function\n",
    "num1 = 48\n",
    "num2 = 18\n",
    "result = euclidean_gcd(num1, num2)\n",
    "print(f\"GCD of {num1} and {num2} is {result}\")"
   ]
  },
  {
   "cell_type": "markdown",
   "id": "cc3edc34-c4de-415c-bbd4-c3704dd47249",
   "metadata": {},
   "source": [
    "### 7. Write a recursive Python function to reverse a string.\n"
   ]
  },
  {
   "cell_type": "code",
   "execution_count": 5,
   "id": "eeaecd7f-a99c-4331-95d5-4baf5abf79c8",
   "metadata": {},
   "outputs": [
    {
     "name": "stdout",
     "output_type": "stream",
     "text": [
      "Original String: Hello, World!\n",
      "Reversed String: !dlroW ,olleH\n"
     ]
    }
   ],
   "source": [
    "def reverse_string(s):\n",
    "    # Base case: if the string is empty or has only one character, return the string itself\n",
    "    if len(s) <= 1:\n",
    "        return s\n",
    "    # Recursive case: reverse the substring excluding the first and last characters,\n",
    "    # and concatenate them with the first and last characters reversed.\n",
    "    return s[-1] + reverse_string(s[1:-1]) + s[0]\n",
    "\n",
    "# Test the function\n",
    "original_string = \"Hello, World!\"\n",
    "reversed_string = reverse_string(original_string)\n",
    "print(f\"Original String: {original_string}\")\n",
    "print(f\"Reversed String: {reversed_string}\")"
   ]
  },
  {
   "cell_type": "markdown",
   "id": "c14ce60b-ff84-4e49-9b17-0fb84b41298a",
   "metadata": {},
   "source": [
    "### 8. Create a recursive Python function to calculate the power of a number (x^n)."
   ]
  },
  {
   "cell_type": "code",
   "execution_count": 6,
   "id": "a7c04e79-03b5-4435-b1be-e6c95deeffb9",
   "metadata": {},
   "outputs": [
    {
     "name": "stdout",
     "output_type": "stream",
     "text": [
      "2^5 = 32\n"
     ]
    }
   ],
   "source": [
    "def power(x, n):\n",
    "    # Base case: when n is 0, the result is 1\n",
    "    if n == 0:\n",
    "        return 1\n",
    "    # Recursive case: calculate power by multiplying x by the result of power(x, n-1)\n",
    "    return x * power(x, n - 1)\n",
    "\n",
    "# Test the function\n",
    "base = 2\n",
    "exponent = 5\n",
    "result = power(base, exponent)\n",
    "print(f\"{base}^{exponent} = {result}\")"
   ]
  },
  {
   "cell_type": "markdown",
   "id": "a1663fe0-9ad7-4d09-8d4e-a92612ee6231",
   "metadata": {},
   "source": [
    "### 9. Write a recursive Python function to find all permutations of a given string.\n"
   ]
  },
  {
   "cell_type": "code",
   "execution_count": 7,
   "id": "575f7aff-1b6e-415d-a89e-4272c31aa36a",
   "metadata": {},
   "outputs": [
    {
     "name": "stdout",
     "output_type": "stream",
     "text": [
      "abc\n",
      "bac\n",
      "bca\n",
      "acb\n",
      "cab\n",
      "cba\n"
     ]
    }
   ],
   "source": [
    "def get_permutations(s):\n",
    "    # Base case: if the string has only one character, return it as a single-element list\n",
    "    if len(s) == 1:\n",
    "        return [s]\n",
    "    \n",
    "    # Recursive case: get permutations of all characters except the first\n",
    "    char = s[0]\n",
    "    rest_permutations = get_permutations(s[1:])\n",
    "    \n",
    "    # Initialize an empty list to store permutations\n",
    "    permutations = []\n",
    "    \n",
    "    # For each permutation of the rest of the string, insert the first character at all positions\n",
    "    for perm in rest_permutations:\n",
    "        for i in range(len(perm) + 1):\n",
    "            permutations.append(perm[:i] + char + perm[i:])\n",
    "    \n",
    "    return permutations\n",
    "\n",
    "# Test the function\n",
    "input_string = \"abc\"\n",
    "permutations = get_permutations(input_string)\n",
    "for perm in permutations:\n",
    "    print(perm)\n"
   ]
  },
  {
   "cell_type": "markdown",
   "id": "eb6caaf0-5b65-4886-bca3-baa574154902",
   "metadata": {},
   "source": [
    "### 10. Write a recursive Python function to check if a string is a palindrome.\n"
   ]
  },
  {
   "cell_type": "code",
   "execution_count": 8,
   "id": "d9885ba1-4d1d-4187-a881-e697e4fbdeac",
   "metadata": {},
   "outputs": [
    {
     "name": "stdout",
     "output_type": "stream",
     "text": [
      "racecar is a palindrome.\n"
     ]
    }
   ],
   "source": [
    "def is_palindrome(s):\n",
    "    # Base case: an empty string or a string with one character is a palindrome\n",
    "    if len(s) <= 1:\n",
    "        return True\n",
    "\n",
    "    # Check if the first and last characters are the same\n",
    "    if s[0] != s[-1]:\n",
    "        return False\n",
    "\n",
    "    # Recursively check the substring without the first and last characters\n",
    "    return is_palindrome(s[1:-1])\n",
    "\n",
    "# Test the function\n",
    "input_string = \"racecar\"\n",
    "if is_palindrome(input_string):\n",
    "    print(f\"{input_string} is a palindrome.\")\n",
    "else:\n",
    "    print(f\"{input_string} is not a palindrome.\")"
   ]
  },
  {
   "cell_type": "markdown",
   "id": "d0deec6a-cb46-417f-a836-213089e81977",
   "metadata": {},
   "source": [
    "### 11. Create a recursive Python function to generate all possible combinations of a list of elements.\n"
   ]
  },
  {
   "cell_type": "code",
   "execution_count": 9,
   "id": "baa8f315-cb1e-4831-9f5d-1ea1c1a405ec",
   "metadata": {},
   "outputs": [
    {
     "name": "stdout",
     "output_type": "stream",
     "text": [
      "(1, 2)\n",
      "(1, 3)\n",
      "(2, 3)\n"
     ]
    }
   ],
   "source": [
    "def combinations(arr, r):\n",
    "    result = []\n",
    "    n = len(arr)\n",
    "    \n",
    "    # A recursive function to generate combinations\n",
    "    def generate_combinations(current_combination, start):\n",
    "        if len(current_combination) == r:\n",
    "            result.append(tuple(current_combination))\n",
    "            return\n",
    "\n",
    "        for i in range(start, n):\n",
    "            current_combination.append(arr[i])\n",
    "            generate_combinations(current_combination, i + 1)\n",
    "            current_combination.pop()\n",
    "\n",
    "    generate_combinations([], 0)\n",
    "    return result\n",
    "\n",
    "# Test the function\n",
    "elements = [1, 2, 3]\n",
    "combinations_list = combinations(elements, 2)\n",
    "for combo in combinations_list:\n",
    "    print(combo)"
   ]
  },
  {
   "cell_type": "markdown",
   "id": "7db2346d-f46c-4a35-b5e6-b5ce71109844",
   "metadata": {},
   "source": [
    "### 1. What is a function in Python, and why is it used?"
   ]
  },
  {
   "cell_type": "markdown",
   "id": "63878861-6534-4338-a447-70c28b5b5320",
   "metadata": {},
   "source": [
    "In Python, a function is a named block of reusable code that performs a specific task or a set of tasks. Functions are used to encapsulate a piece of code into a single unit, which can then be invoked multiple times with different inputs. They serve several purposes:\n",
    "\n",
    "Modularity: Functions allow you to break down your code into smaller, manageable parts. Each function can handle a specific aspect of your program, making your code more organized and easier to understand.\n",
    "\n",
    "Reusability: Functions can be called from various parts of your program, reducing code duplication. This means you can define a function once and use it in multiple places.\n",
    "\n",
    "Abstraction: Functions hide the details of their implementation. When using a function, you don't need to know how it works internally; you only need to know its name and the inputs it requires.\n",
    "\n",
    "Testing: Functions are easier to test since you can test each function individually. This makes debugging and maintaining your code more efficient.\n",
    "\n",
    "Parameterization: Functions can take input parameters, allowing you to customize their behavior for different scenarios.\n",
    "\n",
    "Return Values: Functions can return values, which allows them to produce results that can be used in the rest of the code.\n",
    "\n",
    "In Python, you define a function using the def keyword, and you call a function using its name followed by parentheses and, optionally, passing arguments (input values) within the parentheses. Here's a simple example of a Python function:\n",
    "\n",
    "def greet(name):\n",
    "    \"\"\"This function greets the person passed in as a parameter.\"\"\"\n",
    "    print(f\"Hello, {name}!\")\n",
    "\n",
    "#### Call the function\n",
    "greet(\"Alice\")\n"
   ]
  },
  {
   "cell_type": "markdown",
   "id": "727423bc-04c7-4fc6-a231-1f3100908b6b",
   "metadata": {},
   "source": [
    "### 2. How do you define a function in Python? Provide an example."
   ]
  },
  {
   "cell_type": "markdown",
   "id": "b58a897d-201a-453c-be1c-fd059624154e",
   "metadata": {},
   "source": [
    "In Python, you can define a function using the def keyword, followed by the function name, a pair of parentheses, and a colon. The function's code block is indented and follows this line. Here's the basic syntax for defining a function:\n",
    "\n",
    "def function_name(parameters):\n",
    "    # Function code here\n",
    "\n",
    "### example\n",
    "def square(number):\n",
    "    \"\"\"This function calculates the square of a number.\"\"\"\n",
    "    result = number * number\n",
    "    return result"
   ]
  },
  {
   "cell_type": "markdown",
   "id": "19eee957-86d4-4ee1-a62c-b64b0cdca286",
   "metadata": {},
   "source": [
    "### 3. Explain the difference between a function definition and a function call.\n"
   ]
  },
  {
   "cell_type": "markdown",
   "id": "962a4788-3bda-405b-b875-a01fb706b693",
   "metadata": {},
   "source": [
    "In Python, a function definition and a function call are distinct concepts:\n",
    "\n",
    "Function Definition:\n",
    "\n",
    "A function definition is where you define the structure and behavior of a function.\n",
    "It typically includes the def keyword, the function name, optional parameters enclosed in parentheses, a colon, and the actual code that defines what the function does.\n",
    "Function definitions are the blueprints for what the function will do when called.\n",
    "They are used to create reusable blocks of code that can be executed at a later time.\n",
    "A function definition doesn't execute any code; it just defines what the function will do when called.\n",
    "\n",
    "def add(a, b):\n",
    "    return a + b\n",
    "    \n",
    "Function Call:\n",
    "\n",
    "A function call is where you invoke or execute a function that has been defined.\n",
    "It includes the function name followed by parentheses that may contain arguments (values to be passed to the function).\n",
    "When a function is called, the code within the function definition is executed with the provided arguments.\n",
    "The result of the function's execution is returned to the caller.\n",
    "\n",
    "result = add(3, 5)  # This is a function call.\n"
   ]
  },
  {
   "cell_type": "markdown",
   "id": "4da241a7-8946-4f0f-8acc-c93cb21fe90b",
   "metadata": {},
   "source": [
    "### 4. Write a Python program that defines a function to calculate the sum of two numbers and then calls the function.\n"
   ]
  },
  {
   "cell_type": "code",
   "execution_count": 11,
   "id": "de4663df-31f3-46ed-867e-2344e1c2f0ec",
   "metadata": {},
   "outputs": [],
   "source": [
    "def sum_up(a,b):\n",
    "    return a + b"
   ]
  },
  {
   "cell_type": "code",
   "execution_count": 12,
   "id": "aac47a36-ecf2-48ec-80a8-9f093de72ca9",
   "metadata": {},
   "outputs": [
    {
     "data": {
      "text/plain": [
       "5"
      ]
     },
     "execution_count": 12,
     "metadata": {},
     "output_type": "execute_result"
    }
   ],
   "source": [
    "sum_up(2,3)"
   ]
  },
  {
   "cell_type": "markdown",
   "id": "8de9d8b0-954e-4d1d-8afc-2f07c86c745e",
   "metadata": {},
   "source": [
    "### 5. What is a function signature, and what information does it typically include?\n"
   ]
  },
  {
   "cell_type": "markdown",
   "id": "fd0c6958-dd1e-415b-9fd5-abfe0357f940",
   "metadata": {},
   "source": [
    "A function signature, sometimes referred to as a function header, is a crucial part of a function definition in Python. It provides essential information about the function's characteristics and usage. A typical function signature includes:\n",
    "\n",
    "Function Name: This is the name that uniquely identifies the function. It's the identifier you use when calling the function.\n",
    "\n",
    "Parameters/Arguments: These are enclosed in parentheses and represent values that can be passed to the function when it's called. Parameters are optional; a function can have no parameters or multiple parameters. Each parameter has a name and, optionally, a default value.\n",
    "\n",
    "Return Type: This specifies the data type of the value the function returns. Not all functions return a value; some may return None, signifying no explicit return value.\n",
    "\n",
    "Here's a breakdown of a typical function signature in Python:\n",
    "\n",
    "python\n",
    "Copy code\n",
    "def function_name(parameter1, parameter2, ...):\n",
    "    # Function code here\n",
    "    return result\n",
    "function_name: The unique identifier for the function.\n",
    "parameter1, parameter2, ...: The parameters that the function accepts (can be zero or more).\n",
    "result: The value returned by the function (if applicable).\n",
    "For example, in the function signature def add(a, b):, add is the function name, and a and b are parameters that the function accepts. It typically returns a value of a numeric type (int or float) based on the result of the addition.\n",
    "\n",
    "The function signature serves as the interface for the function, defining how it can be used and what values it expects. It is essential for both the function author and the users of the function to understand its signature to work with it effectively."
   ]
  },
  {
   "cell_type": "markdown",
   "id": "21b06d5f-bf4d-465a-98a6-188fa8c1104c",
   "metadata": {},
   "source": [
    "### 6. Create a Python function that takes two arguments and returns their product."
   ]
  },
  {
   "cell_type": "code",
   "execution_count": 13,
   "id": "6f5a2d52-3769-4e3e-8e40-545dd2c8e86f",
   "metadata": {},
   "outputs": [],
   "source": [
    "def multiply(c,d):\n",
    "    return c*d"
   ]
  },
  {
   "cell_type": "code",
   "execution_count": 15,
   "id": "7a2a63dd-839b-4aa2-9747-e7878558ab7d",
   "metadata": {},
   "outputs": [
    {
     "data": {
      "text/plain": [
       "12"
      ]
     },
     "execution_count": 15,
     "metadata": {},
     "output_type": "execute_result"
    }
   ],
   "source": [
    "multiply(4,3)"
   ]
  },
  {
   "cell_type": "markdown",
   "id": "50793418-9526-477e-aebe-2e6236037dba",
   "metadata": {},
   "source": [
    "### 1. Explain the concepts of formal parameters and actual arguments in Python functions"
   ]
  },
  {
   "cell_type": "markdown",
   "id": "d9d3729b-6bcb-4d7a-857e-8f695c2b3c08",
   "metadata": {},
   "source": [
    "In Python functions, we commonly use the terms \"formal parameters\" and \"actual arguments\" to distinguish between the input variables specified in a function's definition (formal parameters) and the values passed to the function when it's called (actual arguments). These concepts help define and call functions correctly.\n",
    "\n",
    "Here's a detailed explanation of formal parameters and actual arguments:\n",
    "\n",
    "Formal Parameters (Parameters):\n",
    "\n",
    "Formal parameters are the variables listed in a function's definition.\n",
    "They act as placeholders for the values that will be passed to the function when it is called.\n",
    "Formal parameters are used within the function to perform operations or computations.\n",
    "They are defined in the function signature within the parentheses.\n",
    "Formal parameters can have default values, which are used when no argument is provided for them.\n",
    "Example:\n",
    "\n",
    "python\n",
    "Copy code\n",
    "def greet(name):  # 'name' is a formal parameter\n",
    "    print(f\"Hello, {name}!\")\n",
    "\n",
    "def add(x, y=1):  # 'x' and 'y' are formal parameters, 'y' has a default value of 1\n",
    "    return x + y\n",
    "Actual Arguments (Arguments):\n",
    "\n",
    "Actual arguments are the values passed to a function when it is called.\n",
    "They provide concrete values for the formal parameters in the function definition.\n",
    "The number and order of actual arguments must match the number and order of formal parameters.\n",
    "Actual arguments can be specified in the function call.\n",
    "Example:\n",
    "\n",
    "greet(\"Alice\")  # \"Alice\" is the actual argument for the 'name' parameter\n",
    "result = add(5, 3)  # 5 and 3 are actual arguments for 'x' and 'y' parameters\n",
    "\n",
    "In function calls, you supply actual arguments that correspond to the formal parameters defined in the function signature. Python then binds the actual arguments to the formal parameters and executes the function using those values.\n",
    "\n",
    "It's important to ensure that the number and order of actual arguments match the formal parameters in the function definition. In some cases, default values for formal parameters allow you to omit certain arguments when calling a function.\n",
    "\n",
    "Understanding the distinction between formal parameters and actual arguments is fundamental to working with functions in Python."
   ]
  },
  {
   "cell_type": "markdown",
   "id": "716d65eb-c526-48c3-8048-db24d42956fc",
   "metadata": {},
   "source": [
    "### 2. Write a Python program that defines a function with default argument values."
   ]
  },
  {
   "cell_type": "markdown",
   "id": "59a79667-d6b8-40d4-9268-e1dc9c54d9d2",
   "metadata": {},
   "source": [
    "In Python, you can define a function with default argument values by assigning default values to the function's parameters in the function signature. Here's an example of a function that calculates the volume of a box with default values for its dimensions:\n",
    "\n",
    "python\n",
    "Copy code\n",
    "def calculate_volume(length=1, width=1, height=1):\n",
    "    \"\"\"\n",
    "    Calculate the volume of a box.\n",
    "\n",
    "    :param length: Length of the box (default is 1)\n",
    "    :param width: Width of the box (default is 1)\n",
    "    :param height: Height of the box (default is 1)\n",
    "    :return: Volume of the box\n",
    "    \"\"\"\n",
    "    volume = length * width * height\n",
    "    return volume\n",
    "\n",
    "# Calling the function with default arguments\n",
    "default_volume = calculate_volume()\n",
    "print(\"Default Volume:\", default_volume)  # Output: Default Volume: 1\n",
    "\n",
    "# Calling the function with custom arguments\n",
    "custom_volume = calculate_volume(2, 3, 4)\n",
    "print(\"Custom Volume:\", custom_volume)  # Output: Custom Volume: 24\n",
    "In this example, the function calculate_volume has three parameters (length, width, and height) with default values of 1. You can call this function without providing any arguments to use the default values, or you can provide specific values to calculate the volume of a box with custom dimensions.\n",
    "\n",
    "The function's docstring provides information about the purpose of the function and its parameters, including the default values."
   ]
  },
  {
   "cell_type": "markdown",
   "id": "b67f95ce-677c-4b0f-861c-a2262ca51d2c",
   "metadata": {},
   "source": [
    "### 3. How do you use keyword arguments in Python function calls? Provide an example.\n"
   ]
  },
  {
   "cell_type": "markdown",
   "id": "96c8a776-2c1b-4b5c-9681-4ddd9d8bc11d",
   "metadata": {},
   "source": [
    "In Python, you can use keyword arguments in function calls by specifying the argument names along with their values. This allows you to pass arguments to a function in a different order or skip some arguments if you want to use their default values. Here's an example:\n",
    "\n",
    "python\n",
    "Copy code\n",
    "def greet(name, greeting=\"Hello\"):\n",
    "    \"\"\"\n",
    "    Greet a person with a customizable message.\n",
    "\n",
    "    :param name: Name of the person\n",
    "    :param greeting: Greeting message (default is \"Hello\")\n",
    "    :return: Complete greeting message\n",
    "    \"\"\"\n",
    "    return f\"{greeting}, {name}!\"\n",
    "\n",
    "# Using positional arguments\n",
    "greeting1 = greet(\"Alice\")\n",
    "print(greeting1)  # Output: Hello, Alice!\n",
    "\n",
    "# Using keyword arguments\n",
    "greeting2 = greet(name=\"Bob\", greeting=\"Hi\")\n",
    "print(greeting2)  # Output: Hi, Bob!\n",
    "\n",
    "# Mixing positional and keyword arguments\n",
    "greeting3 = greet(\"Charlie\", greeting=\"Hey\")\n",
    "print(greeting3)  # Output: Hey, Charlie!\n",
    "In this example, the greet function takes two parameters: name and greeting, with greeting having a default value of \"Hello.\" You can call this function using positional arguments, keyword arguments, or a mix of both.\n",
    "\n",
    "Using keyword arguments allows you to specify the values of arguments by their names, which can make your code more readable and help avoid errors when calling functions with many arguments."
   ]
  },
  {
   "cell_type": "markdown",
   "id": "c8691128-ca6e-4c46-906d-a14ab19f7dc8",
   "metadata": {},
   "source": [
    "### 4. Create a Python function that accepts a variable number of arguments and calculates their sum.\n"
   ]
  },
  {
   "cell_type": "code",
   "execution_count": 18,
   "id": "29a0ddae-b38f-4d6f-b325-dd7c98eb89d3",
   "metadata": {},
   "outputs": [],
   "source": [
    "def sum1(*args):\n",
    "    total = 0\n",
    "    for num in args:\n",
    "        total += num\n",
    "    return total"
   ]
  },
  {
   "cell_type": "code",
   "execution_count": 19,
   "id": "6ce79319-ccc1-4df0-97dc-e49f8af91dbf",
   "metadata": {},
   "outputs": [
    {
     "data": {
      "text/plain": [
       "8"
      ]
     },
     "execution_count": 19,
     "metadata": {},
     "output_type": "execute_result"
    }
   ],
   "source": [
    "sum1(2,4,2)"
   ]
  },
  {
   "cell_type": "markdown",
   "id": "b241820f-2c80-48fa-b324-e4066679e93d",
   "metadata": {},
   "source": [
    "### 5. What is the purpose of the `*args` and `**kwargs` syntax in function parameter list"
   ]
  },
  {
   "cell_type": "markdown",
   "id": "04a1549a-a8dd-4d61-bef3-011d6740765b",
   "metadata": {},
   "source": [
    "In Python, the *args and **kwargs syntax in function parameter lists are used to handle a variable number of positional and keyword arguments, respectively. They provide flexibility when defining functions that can accept different numbers of arguments.\n",
    "\n",
    "*args (Arbitrary Positional Arguments):\n",
    "\n",
    "The *args syntax is used to collect any number of positional arguments into a tuple.\n",
    "It allows a function to accept a variable number of arguments without explicitly defining them.\n",
    "You can use *args as a parameter in a function to capture multiple positional arguments.\n",
    "The name \"args\" is a convention; you can use any name you prefer.\n",
    "Example:\n",
    "\n",
    "python\n",
    "Copy code\n",
    "def my_function(*args):\n",
    "    for arg in args:\n",
    "        print(arg)\n",
    "\n",
    "my_function(1, 2, 3)  # Output: 1 2 3\n",
    "my_function('apple', 'banana', 'cherry')  # Output: apple banana cherry\n",
    "**kwargs (Arbitrary Keyword Arguments):\n",
    "\n",
    "The **kwargs syntax is used to collect any number of keyword arguments into a dictionary.\n",
    "It allows a function to accept a variable number of keyword arguments without explicitly defining them.\n",
    "You can use **kwargs as a parameter in a function to capture multiple keyword arguments.\n",
    "The name \"kwargs\" is a convention; you can use any name you prefer.\n",
    "Example:\n",
    "\n",
    "python\n",
    "Copy code\n",
    "def display_info(**kwargs):\n",
    "    for key, value in kwargs.items():\n",
    "        print(f'{key}: {value}')\n",
    "\n",
    "display_info(name='John', age=30, city='New York')\n",
    "# Output:\n",
    "# name: John\n",
    "# age: 30\n",
    "# city: New York\n",
    "These features are particularly useful when you want to create more flexible functions that can adapt to different input arguments."
   ]
  },
  {
   "cell_type": "markdown",
   "id": "f23ed2bc-31b0-4d93-9bdd-bdc56ac42323",
   "metadata": {},
   "source": [
    "### 1. Describe the role of the `return` statement in Python functions and provide examples"
   ]
  },
  {
   "cell_type": "markdown",
   "id": "57caa66e-cd46-42c8-8262-64535620ec67",
   "metadata": {},
   "source": [
    "The return statement in Python functions is used to specify what value a function should return when it's called. It allows a function to compute a result and pass that result back to the caller. The return statement marks the end of a function's execution, and the function exits as soon as a return statement is encountered.\n",
    "\n",
    "Here's how it works with some examples:\n",
    "\n",
    "Example 1: A Simple Function with Return\n",
    "\n",
    "python\n",
    "Copy code\n",
    "def add(a, b):\n",
    "    result = a + b\n",
    "    return result\n",
    "\n",
    "sum_result = add(3, 5)\n",
    "print(sum_result)  # Output: 8\n",
    "In this example, the add function takes two arguments, a and b, calculates their sum, and then uses the return statement to send the result back to the caller. The value 8 is assigned to the variable sum_result.\n",
    "\n",
    "Example 2: Returning Multiple Values\n",
    "\n",
    "python\n",
    "Copy code\n",
    "def divide_and_remainder(dividend, divisor):\n",
    "    quotient = dividend // divisor\n",
    "    remainder = dividend % divisor\n",
    "    return quotient, remainder\n",
    "\n",
    "result = divide_and_remainder(17, 5)\n",
    "print(result)  # Output: (3, 2)\n",
    "This example shows that you can use return to return multiple values as a tuple. The divide_and_remainder function returns both the quotient and remainder of dividing 17 by 5. The returned values are then assigned to the result variable as a tuple (3, 2).\n",
    "\n",
    "Example 3: Returning Early\n",
    "\n",
    "python\n",
    "Copy code\n",
    "def is_even(number):\n",
    "    if number % 2 == 0:\n",
    "        return True\n",
    "    else:\n",
    "        return False\n",
    "\n",
    "result = is_even(6)\n",
    "print(result)  # Output: True\n",
    "In this example, the is_even function checks if a number is even. If the condition is met, it returns True. If the number is not even, it returns False. The return statement allows the function to exit early once a result is determined.\n",
    "\n",
    "The return statement is essential for functions to pass data back to the calling code, and it can be used to return a wide range of data types, including numbers, strings, lists, tuples, and more."
   ]
  },
  {
   "cell_type": "markdown",
   "id": "49170952-aad7-45aa-9aa3-1d219f8cdf78",
   "metadata": {},
   "source": [
    "### 2. Explain the concept of variable scope in Python, including local and global variables.\n"
   ]
  },
  {
   "cell_type": "markdown",
   "id": "b70ce9a9-a56c-4143-8bd1-67c7a6142c81",
   "metadata": {},
   "source": [
    "Variable scope in Python refers to the visibility or accessibility of a variable within a specific part of your code. Python has two main types of variable scope: local and global.\n",
    "\n",
    "Local Variables:\n",
    "\n",
    "Local variables are defined inside a function or a code block and are only accessible within that function or block.\n",
    "They are temporary and are created when the function is called and destroyed when the function exits.\n",
    "Local variables cannot be accessed from outside the function.\n",
    "Example:\n",
    "\n",
    "python\n",
    "Copy code\n",
    "def my_function():\n",
    "    x = 10  # x is a local variable\n",
    "    print(x)\n",
    "\n",
    "my_function()\n",
    "print(x)  # This will raise a NameError because x is not defined in the global scope\n",
    "Global Variables:\n",
    "\n",
    "Global variables are defined outside of any function or code block and are accessible from anywhere in the program.\n",
    "They have a broader scope and can be accessed both inside and outside functions.\n",
    "Example:\n",
    "\n",
    "python\n",
    "Copy code\n",
    "x = 10  # x is a global variable\n",
    "\n",
    "def my_function():\n",
    "    print(x)  # The function can access the global variable x\n",
    "\n",
    "my_function()\n",
    "print(x)  # This will print 10\n",
    "Variables defined inside a function will shadow (hide) variables with the same name in an outer (enclosing) scope. To explicitly create or modify a global variable within a function, you can use the global keyword.\n",
    "\n",
    "Example:\n",
    "\n",
    "python\n",
    "Copy code\n",
    "x = 10  # global variable\n",
    "\n",
    "def my_function():\n",
    "    global x  # Declare x as a global variable\n",
    "    x = 20  # Modify the global variable x\n",
    "    print(x)\n",
    "\n",
    "my_function()\n",
    "print(x)  # This will print 20\n",
    "In summary, variable scope defines where a variable is accessible or not. Local variables are limited to the function or block they are defined in, while global variables can be accessed throughout the entire program. Care should be taken when dealing with global variables to avoid unintentional modifications."
   ]
  },
  {
   "cell_type": "markdown",
   "id": "923efa1f-114f-48e4-b50a-f2af3333495c",
   "metadata": {},
   "source": [
    "### 3. Write a Python program that demonstrates the use of global variables within functions.\n"
   ]
  },
  {
   "cell_type": "markdown",
   "id": "e6a600b7-02f7-4881-950d-d532c873158d",
   "metadata": {},
   "source": [
    "#  Define a global variable\n",
    "global_var = 10\n",
    "\n",
    "def modify_global_variable():\n",
    "    global global_var  # Declare that we're using the global variable\n",
    "    global_var = 20\n",
    "\n",
    "def use_global_variable():\n",
    "    print(\"Global Variable:\", global_var)\n",
    "\n",
    "# Display the initial value of the global variable\n",
    "use_global_variable()\n",
    "\n",
    "# Modify the global variable within the function\n",
    "modify_global_variable()\n",
    "\n",
    "# Display the updated value of the global variable\n",
    "use_global_variable()"
   ]
  },
  {
   "cell_type": "markdown",
   "id": "8ca2517c-5d50-4c38-9eba-fec8ab1f225d",
   "metadata": {},
   "source": [
    "### 4. Create a Python function that calculates the factorial of a number and returns it."
   ]
  },
  {
   "cell_type": "code",
   "execution_count": 20,
   "id": "15823376-d3e2-4db9-ab52-bcd67e40e890",
   "metadata": {},
   "outputs": [
    {
     "name": "stdout",
     "output_type": "stream",
     "text": [
      "The factorial of 5 is 120\n"
     ]
    }
   ],
   "source": [
    "def factorial(n):\n",
    "    if n == 0:\n",
    "        return 1  # The factorial of 0 is defined as 1\n",
    "    else:\n",
    "        result = 1\n",
    "        for i in range(1, n + 1):\n",
    "            result *= i\n",
    "        return result\n",
    "\n",
    "# Test the factorial function\n",
    "number = 5  # You can change this to calculate the factorial of a different number\n",
    "fact = factorial(number)\n",
    "print(f\"The factorial of {number} is {fact}\")\n"
   ]
  },
  {
   "cell_type": "markdown",
   "id": "f0ed06a8-c3de-47eb-8f69-08e7545132ba",
   "metadata": {},
   "source": [
    "### 5. How can you access variables defined outside a function from within the function?\n"
   ]
  },
  {
   "cell_type": "markdown",
   "id": "43c96ece-0ba2-40cc-bc1b-8d99960704a8",
   "metadata": {},
   "source": [
    "You can access variables defined outside a function from within the function by making use of global variables. To do this, you need to use the global keyword to declare that you want to work with a global variable rather than creating a new local variable with the same name.\n",
    "\n",
    "Here's an example:\n",
    "\n",
    "python\n",
    "Copy code\n",
    "# Define a global variable\n",
    "global_variable = 10\n",
    "\n",
    "def access_global_variable():\n",
    "    # Access the global variable\n",
    "    global global_variable\n",
    "    print(f\"Inside the function: global_variable = {global_variable}\")\n",
    "\n",
    "# Call the function\n",
    "access_global_variable()\n",
    "\n",
    "# Access the global variable outside the function\n",
    "print(f\"Outside the function: global_variable = {global_variable}\")\n",
    "In this example, we have a global variable named global_variable. When we call the access_global_variable function, we use the global keyword to indicate that we want to access the global variable within the function. This allows us to access and modify the global variable from within the function.\n",
    "\n",
    "The result will be:\n",
    "\n",
    "Inside the function: global_variable = 10\n",
    "Outside the function: global_variable = 10\n",
    "However, it's important to use global variables judiciously, as they can make the code less modular and harder to understand. It's generally a good practice to minimize the use of global variables and, when possible, pass values as arguments to functions instead."
   ]
  },
  {
   "cell_type": "markdown",
   "id": "aa6b6bf2-bd2e-441f-8de2-d558d4b81d52",
   "metadata": {},
   "source": [
    "### 1. What are lambda functions in Python, and when are they typically used?"
   ]
  },
  {
   "cell_type": "markdown",
   "id": "7ec7a51b-ee9d-4dc9-b258-af5ea329e272",
   "metadata": {},
   "source": [
    "Lambda functions in Python are small, anonymous functions defined using the lambda keyword. They are typically used for simple operations or transformations where you don't want to define a full function using the def keyword.\n",
    "\n",
    "Here's the basic syntax of a lambda function:\n",
    "\n",
    "python\n",
    "Copy code\n",
    "lambda arguments: expression\n",
    "Lambda functions have the following characteristics:\n",
    "\n",
    "Anonymous: Lambda functions don't have a name. They are used where you need a small, short-lived function for a specific task without defining a full function.\n",
    "\n",
    "Single Expression: They can only contain a single expression, and that expression is returned as the result.\n",
    "\n",
    "Short and Concise: They are designed for conciseness and brevity. If your function becomes more complex, it's usually better to define a regular function using def.\n",
    "\n",
    "Lambda functions are commonly used in scenarios like:\n",
    "\n",
    "Sorting: You can use lambda functions to define custom sorting keys for sorting functions like sorted() or sort().\n",
    "\n",
    "Filtering: In combination with filter() or list comprehensions, lambda functions are used to filter elements from a sequence that meet certain criteria.\n",
    "\n",
    "Mapping: Lambda functions are often used with map() to apply a function to each element of a sequence.\n",
    "\n",
    "Here's an example of a lambda function used in sorting a list of tuples based on the second element of each tuple:\n",
    "\n",
    "python\n",
    "Copy code\n",
    "data = [(1, 5), (2, 2), (3, 8)]\n",
    "sorted_data = sorted(data, key=lambda x: x[1])\n",
    "print(sorted_data)  # Output: [(2, 2), (1, 5), (3, 8)]\n",
    "In this example, the lambda function lambda x: x[1] is used to specify the sorting key, which is the second element of each tuple. Lambda functions are especially useful in such situations where you need a quick, short function for a specific task."
   ]
  },
  {
   "cell_type": "markdown",
   "id": "43fa6f04-3be6-47a8-a02f-99fcf02bfd17",
   "metadata": {},
   "source": [
    "### Write a Python program that uses lambda functions to sort a list of tuples based on the second element.\n"
   ]
  },
  {
   "cell_type": "code",
   "execution_count": 21,
   "id": "6cdbe0d5-3b69-4ee0-9868-33306c3b0d21",
   "metadata": {},
   "outputs": [
    {
     "name": "stdout",
     "output_type": "stream",
     "text": [
      "[(2, 2), (1, 5), (3, 8)]\n"
     ]
    }
   ],
   "source": [
    "data = [(1, 5), (2, 2), (3, 8)]\n",
    "sorted_data = sorted(data, key=lambda x: x[1])\n",
    "print(sorted_data)"
   ]
  },
  {
   "cell_type": "markdown",
   "id": "a4d4a31f-08ba-4d3e-b2fd-cf1e1a7e477b",
   "metadata": {},
   "source": [
    "### 3. Explain the concept of higher-order functions in Python, and provide an example"
   ]
  },
  {
   "cell_type": "markdown",
   "id": "f1b3df56-c555-453f-a7da-44bc4e4a674e",
   "metadata": {},
   "source": [
    "Higher-order functions are functions that can accept other functions as arguments and/or return functions as results. They are a powerful feature of Python and are used extensively in functional programming. Higher-order functions enable you to create more abstract and reusable code by taking advantage of functions as first-class citizens.\n",
    "\n",
    "Here's an example of a higher-order function in Python:\n",
    "\n",
    "python\n",
    "Copy code\n",
    "def apply(func, x):\n",
    "    return func(x)\n",
    "\n",
    "def square(x):\n",
    "    return x * x\n",
    "\n",
    "def cube(x):\n",
    "    return x * x * x\n",
    "\n",
    "result1 = apply(square, 5)  # Calls square(5)\n",
    "result2 = apply(cube, 4)    # Calls cube(4)\n",
    "\n",
    "print(result1)  # Output: 25\n",
    "print(result2)  # Output: 64\n",
    "In this example, the apply function is a higher-order function. It takes two arguments: a function func and a value x. The apply function applies the given func to the value x and returns the result.\n",
    "\n",
    "The square and cube functions are passed as arguments to apply, and it applies these functions to the values 5 and 4. This demonstrates how you can pass functions as arguments to other functions, which is a key concept in higher-order functions."
   ]
  },
  {
   "cell_type": "markdown",
   "id": "eec6208f-95d4-4c0b-99a0-302c20acd748",
   "metadata": {},
   "source": [
    "### 4. Create a Python function that takes a list of numbers and a function as arguments, applying the function to each element in the list"
   ]
  },
  {
   "cell_type": "markdown",
   "id": "26bb9087-ff39-41ea-9302-03d90d2c2aeb",
   "metadata": {},
   "source": [
    "### Here's an example of a Python function that takes a list of numbers and a function as arguments, applying the function to each element in the list:\n",
    "\n",
    "def apply_function_to_list(func, num_list):\n",
    "    result = []\n",
    "    for num in num_list:\n",
    "        result.append(func(num))\n",
    "    return result\n",
    "\n",
    "# Define a function to square a number\n",
    "def square(x):\n",
    "    return x * x\n",
    "\n",
    "# Define a list of numbers\n",
    "numbers = [1, 2, 3, 4, 5]\n",
    "\n",
    "# Apply the square function to the list of numbers\n",
    "squared_numbers = apply_function_to_list(square, numbers)\n",
    "\n",
    "print(squared_numbers)  # Output: [1, 4, 9, 16, 25]\n",
    "In this example, the apply_function_to_list function takes two arguments: func, which is a function, and num_list, which is a list of numbers. It applies the given function (func) to each element in the list (num_list) and stores the results in the result list."
   ]
  },
  {
   "cell_type": "markdown",
   "id": "76becb1a-cd38-4c99-a2d5-0cdbb308133e",
   "metadata": {},
   "source": [
    "### 1. Describe the role of built-in functions like `len()`, `max()`, and `min()` in Python"
   ]
  },
  {
   "cell_type": "markdown",
   "id": "e16c21e1-f764-4bbf-a4b7-577dba9a9212",
   "metadata": {},
   "source": [
    "Built-in functions like len(), max(), and min() in Python play essential roles in simplifying common operations and data manipulations:\n",
    "\n",
    "len(): The len() function is used to determine the length or the number of items in a data structure, such as a string, list, or tuple. It returns an integer representing the number of elements in the sequence.\n",
    "\n",
    "text = \"Hello, World!\"\n",
    "length = len(text)\n",
    "print(length)  # Output: 13\n",
    "max(): The max() function is used to find the maximum value among the elements in an iterable, like a list or tuple. It returns the largest element.\n",
    "\n",
    "numbers = [5, 10, 3, 8, 20]\n",
    "maximum = max(numbers)\n",
    "print(maximum)  # Output: 20\n",
    "min(): The min() function is used to find the minimum value among the elements in an iterable. It returns the smallest element.\n",
    "\n",
    "numbers = [5, 10, 3, 8, 20]\n",
    "minimum = min(numbers)\n",
    "print(minimum)  # Output: 3\n",
    "These built-in functions are widely used in various Python applications to simplify tasks such as finding the length of data, determining the maximum or minimum values, and more, without the need for custom code."
   ]
  },
  {
   "cell_type": "markdown",
   "id": "dd9f4da0-ba87-40aa-b5fe-d4af35678c27",
   "metadata": {},
   "source": [
    "### 2. Write a Python program that uses the `map()` function to apply a function to each element of a list."
   ]
  },
  {
   "cell_type": "markdown",
   "id": "847b7c36-ee27-49f8-b556-034269a68298",
   "metadata": {},
   "source": [
    "Certainly! Here's an example of a Python program that uses the map() function to apply a function to each element of a list:\n",
    "\n",
    "# Define a function to square a number\n",
    "def square(x):\n",
    "    return x * x\n",
    "\n",
    "# Create a list of numbers\n",
    "numbers = [1, 2, 3, 4, 5]\n",
    "\n",
    "# Use the map() function to apply the square function to each element of the list\n",
    "squared_numbers = list(map(square, numbers))\n",
    "\n",
    "# Print the original list and the squared list\n",
    "print(\"Original List:\", numbers)\n",
    "print(\"Squared List:\", squared_numbers)\n",
    "In this example, we have defined a square function that takes a number as input and returns its square. We then use the map() function to apply the square function to each element of the numbers list. The result is a new list, squared_numbers, containing the squares of the original numbers."
   ]
  },
  {
   "cell_type": "markdown",
   "id": "9a3c9296-9619-4df5-8173-8f8078f31f20",
   "metadata": {},
   "source": [
    "### 3. How does the `filter()` function work in Python, and when would you use it?"
   ]
  },
  {
   "cell_type": "markdown",
   "id": "ffeae6fa-9a16-4a86-aa9d-780702c41da8",
   "metadata": {},
   "source": [
    "The filter() function in Python is used to filter elements from an iterable (e.g., a list) based on a specified function or condition. It returns an iterator containing the elements for which the provided function returns True.\n",
    "\n",
    "The filter() function takes two arguments:\n",
    "\n",
    "A function that defines the condition to filter elements.\n",
    "An iterable (e.g., a list) containing the elements to be filtered.\n",
    "Here's how it works:\n",
    "\n",
    "The filter() function applies the specified function to each element in the iterable.\n",
    "If the function returns True for an element, that element is included in the output.\n",
    "If the function returns False for an element, that element is excluded from the output.\n",
    "When to use filter():\n",
    "You should use the filter() function when you need to select elements from an iterable that meet a specific condition. It's especially useful when you want to filter a list based on a custom condition without writing a loop.\n",
    "\n",
    "Here's an example of using filter() to select even numbers from a list:\n",
    "\n",
    "python\n",
    "Copy code\n",
    "# Define a function to check if a number is even\n",
    "def is_even(x):\n",
    "    return x % 2 == 0\n",
    "\n",
    "# Create a list of numbers\n",
    "numbers = [1, 2, 3, 4, 5, 6, 7, 8, 9]\n",
    "\n",
    "# Use the filter() function to select even numbers\n",
    "even_numbers = list(filter(is_even, numbers))\n",
    "\n",
    "print(\"Original List:\", numbers)\n",
    "print(\"Even Numbers:\", even_numbers)\n",
    "In this example, the is_even function checks if a number is even by verifying if the remainder of dividing the number by 2 is 0. The filter() function is used to select even numbers from the list numbers."
   ]
  },
  {
   "cell_type": "markdown",
   "id": "8bfa3f02-f857-409f-90d3-3fc6dc3dde60",
   "metadata": {},
   "source": [
    "### 4. Create a Python program that uses the `reduce()` function to find the product of all elements in a list."
   ]
  },
  {
   "cell_type": "markdown",
   "id": "9f5d871d-0a64-4a0b-afed-a366a5a0ee93",
   "metadata": {},
   "source": [
    "To find the product of all elements in a list using the reduce() function, you can follow these steps:\n",
    "\n",
    "Import the reduce function from the functools module.\n",
    "Define a function that takes two arguments and returns their product.\n",
    "Use the reduce() function to apply the product function cumulatively to the elements of the list.\n",
    "Here's a Python program to accomplish this:\n",
    "\n",
    "python\n",
    "Copy code\n",
    "from functools import reduce\n",
    "\n",
    "# Define a function to calculate the product of two numbers\n",
    "def multiply(x, y):\n",
    "    return x * y\n",
    "\n",
    "# Create a list of numbers\n",
    "numbers = [1, 2, 3, 4, 5]\n",
    "\n",
    "# Use the reduce() function to find the product of all elements in the list\n",
    "product = reduce(multiply, numbers)\n",
    "\n",
    "print(\"List of Numbers:\", numbers)\n",
    "print(\"Product of Numbers:\", product)\n",
    "In this example, we import the reduce function, define the multiply function to calculate the product of two numbers, and then use reduce() to find the product of all the elements in the numbers list. The reduce() function applies the multiply function cumulatively to the elements, starting with the first two elements and then using their product as one of the operands for the next step, and so on, until the entire list is processed."
   ]
  },
  {
   "cell_type": "markdown",
   "id": "1a7703c4-21c5-4183-af12-55e7c7cd1333",
   "metadata": {},
   "source": [
    "### 1. Explain the purpose of docstrings in Python functions and how to write them."
   ]
  },
  {
   "cell_type": "markdown",
   "id": "aa200e4a-142a-47e7-8abd-a7c33e286f73",
   "metadata": {},
   "source": [
    "In Python, docstrings (documentation strings) serve the purpose of providing documentation and information about functions, classes, modules, or methods. They are used to describe what a particular piece of code does, its input parameters, its return values, and any additional information that can help others understand and use the code effectively.\n",
    "\n",
    "Docstrings are typically written as multi-line strings enclosed in triple-quotes (single or double). Here's how to write docstrings:\n",
    "\n",
    "python\n",
    "Copy code\n",
    "def my_function(param1, param2):\n",
    "    \"\"\"\n",
    "    This is a docstring for my_function.\n",
    "    \n",
    "    It describes the purpose of the function and its parameters.\n",
    "    \n",
    "    :param param1: The first parameter.\n",
    "    :type param1: int\n",
    "    :param param2: The second parameter.\n",
    "    :type param2: str\n",
    "    \n",
    "    :return: The result of the function.\n",
    "    :rtype: float\n",
    "    \"\"\"\n",
    "    # Function code here\n",
    "    return result\n",
    "Let's break down the components of this docstring:\n",
    "\n",
    "It starts with a one-line summary of what the function does.\n",
    "There is a blank line.\n",
    "It describes each parameter (param1 and param2) along with their data types.\n",
    "Another blank line.\n",
    "It describes the return value and its data type.\n",
    "Here's the purpose of each section:\n",
    "\n",
    "The one-line summary provides a quick overview of what the function does.\n",
    "The parameter descriptions help users understand what input the function expects and what data types should be used.\n",
    "The return value description clarifies what the function will return and its data type.\n",
    "To access a function's docstring, you can use the help() function or use the .__doc__ attribute of the function. For example:\n",
    "\n",
    "python\n",
    "Copy code\n",
    "print(help(my_function))\n",
    "print(my_function.__doc__)\n",
    "Writing informative docstrings is a good practice because it makes your code more understandable and maintainable, especially when working on larger projects or collaborating with other developers. Additionally, tools like Sphinx can generate documentation from docstrings, making it easier to create official project documentation."
   ]
  },
  {
   "cell_type": "markdown",
   "id": "bfb5fcc0-79ff-4117-9006-16b25db46d61",
   "metadata": {},
   "source": [
    "### describe some best practice for naming funcions and variables in python including naming, conventions and guidelines"
   ]
  },
  {
   "cell_type": "markdown",
   "id": "61121dba-41d9-4113-b16b-2693b8dce1cf",
   "metadata": {},
   "source": [
    "For Functions:\n",
    "\n",
    "Use descriptive and meaningful names: Choose function names that clearly convey the purpose of the function. This makes your code more readable and understandable. For example, if your function calculates the total price of items, a good name might be calculate_total_price.\n",
    "\n",
    "Use lowercase letters: Function names should be in lowercase with words separated by underscores (snake_case). This is a widely accepted convention in Python. For example, calculate_total_price rather than calculateTotalPrice.\n",
    "\n",
    "Be concise but not overly abbreviated: While being descriptive, aim to keep function names reasonably concise. Avoid overly long names. Strike a balance between clarity and brevity.\n",
    "\n",
    "Use verbs for action: Typically, function names should use verbs to indicate what action the function performs. For example, calculate_total_price, get_user_data, or validate_email.\n",
    "\n",
    "For Variables:\n",
    "\n",
    "Use descriptive names: Similar to functions, choose variable names that clearly describe what the variable represents. This makes your code self-explanatory.\n",
    "\n",
    "Follow naming conventions:\n",
    "\n",
    "Variables should be in lowercase with words separated by underscores (snake_case).\n",
    "Constants should be in uppercase with words separated by underscores (UPPER_CASE).\n",
    "Class names should use CamelCase (each word starts with a capital letter), which is also known as PascalCase.\n",
    "Make variable names readable: Avoid single-letter variable names (except for temporary loop variables like i, j, etc.). Use names like item_count instead of ic.\n",
    "\n",
    "Use meaningful abbreviations: If using abbreviations, ensure they are widely understood. For example, it's common to use max for maximum, min for minimum, and idx for index.\n",
    "\n",
    "Avoid reserved words: Do not use Python's reserved words, such as int, str, for, etc., as variable names.\n",
    "\n",
    "General Naming Guidelines:\n",
    "\n",
    "Be consistent: Maintain a consistent naming style throughout your code. Consistency makes your code easier to read and understand.\n",
    "\n",
    "Use meaningful comments: If a variable or function name isn't self-explanatory, add comments to clarify its purpose.\n",
    "\n",
    "Follow PEP 8: PEP 8 is Python's style guide, which provides detailed naming conventions and coding style recommendations. Adhering to PEP 8 ensures that your code is consistent and follows best practices.\n",
    "\n",
    "Remember that good naming practices contribute to code readability, maintainability, and collaboration with other developers. Adhering to naming conventions and choosing meaningful names is crucial for writing clean and effective Python code."
   ]
  }
 ],
 "metadata": {
  "kernelspec": {
   "display_name": "Python 3 (ipykernel)",
   "language": "python",
   "name": "python3"
  },
  "language_info": {
   "codemirror_mode": {
    "name": "ipython",
    "version": 3
   },
   "file_extension": ".py",
   "mimetype": "text/x-python",
   "name": "python",
   "nbconvert_exporter": "python",
   "pygments_lexer": "ipython3",
   "version": "3.10.8"
  }
 },
 "nbformat": 4,
 "nbformat_minor": 5
}
